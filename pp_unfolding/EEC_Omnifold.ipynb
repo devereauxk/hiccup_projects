{
 "cells": [
  {
   "cell_type": "code",
   "execution_count": 1,
   "id": "733ba683-ce48-4968-b819-89c4993d79c5",
   "metadata": {},
   "outputs": [
    {
     "name": "stdout",
     "output_type": "stream",
     "text": [
      "['/software/users/wenqing/pyjetty', '/software/users/wenqing/pyjetty/cpptools/lib64', '/software/users/wenqing/pyjetty/cpptools/lib', '/software/users/wenqing/heppy', '/software/users/wenqing/heppy/cpptools/lib64', '/software/users/wenqing/heppy/cpptools/lib', '', '/software/users/wenqing/heppy/external/fastjet/fastjet-3.3.4/lib64/python3.6/site-packages', '/software/users/wenqing/heppy/external/fastjet/fastjet-3.3.4/lib/python3.6/site-packages', '/software/users/wenqing/heppy/external/roounfold/roounfold-current/lib', '/software/users/wenqing/heppy/external/fastjet/fastjet-3.3.4/lib64', '/software/users/wenqing/heppy/external/fastjet/fastjet-3.3.4/lib', '/software/users/wenqing/heppy/external/lhapdf6/lhapdf6-current/lib64', '/software/users/wenqing/heppy/external/lhapdf6/lhapdf6-current/lib', '/software/users/wenqing/heppy/external/hepmc2/hepmc2-current/lib', '/software/users/wenqing/heppy/external/hepmc3/hepmc3-current/lib64', '/software/users/wenqing/heppy/external/hepmc3/hepmc3-current/lib', '/software/users/wenqing/heppy/external/root/root-current/lib', '/software/users/wenqing/heppy/external/pythia8/pythia8-8244/lib', '/usr/lib64/python36.zip', '/usr/lib64/python3.6', '/usr/lib64/python3.6/lib-dynload', '/home/kdevereaux/.local/lib/python3.6/site-packages', '/usr/local/lib64/python3.6/site-packages', '/usr/local/lib/python3.6/site-packages', '/usr/lib64/python3.6/site-packages', '/usr/lib/python3.6/site-packages', '/usr/local/lib/python3.6/site-packages/IPython/extensions', '/home/kdevereaux/.ipython']\n"
     ]
    }
   ],
   "source": [
    "import sys\n",
    "print(sys.path)"
   ]
  },
  {
   "cell_type": "code",
   "execution_count": 2,
   "id": "3eedee83-b19a-4832-af58-16be4f6176f9",
   "metadata": {},
   "outputs": [],
   "source": [
    "import numpy as np\n",
    "import pandas as pd\n",
    "import uproot as ur\n",
    "\n",
    "from keras.layers import Dense, Input\n",
    "from keras.models import Model\n",
    "\n",
    "import omnifold as of\n",
    "import os\n",
    "import tensorflow as tf\n",
    "\n",
    "from matplotlib import pyplot as plt\n",
    "from IPython.display import Image\n",
    "pd.set_option('display.max_columns', None) # to see all columns of df.head()"
   ]
  },
  {
   "cell_type": "code",
   "execution_count": 3,
   "id": "0dcb3c2f-da75-40a4-af1a-8994e86e915e",
   "metadata": {},
   "outputs": [],
   "source": [
    "#gpus = tf.config.experimental.list_physical_devices('GPU')\n",
    "#print(gpus)"
   ]
  },
  {
   "cell_type": "markdown",
   "id": "656516dd-37f6-4d4c-be99-e9bc920de36f",
   "metadata": {},
   "source": [
    "# [Omnifold Paper](https://journals.aps.org/prl/abstract/10.1103/PhysRevLett.124.182001) Background"
   ]
  },
  {
   "cell_type": "markdown",
   "id": "12f354ba-b3ec-473e-a041-d92f81727416",
   "metadata": {},
   "source": [
    "|   |   |   |\n",
    "|---|---|---|\n",
    "|Synthetic Generator-Level Sim   | $\\theta_{0,G}$  | Truth-Level Sim  |\n",
    "|Synthetic Reconstruction-Level Sim   | $\\theta_{0,S}$   | Full Reco-Level Sim  |\n",
    "|Natural Reconstruction  | $\\theta_\\mathrm{unknown,S}$  | Observed Detector Data  |\n",
    "|Natural Truth   |$\\theta_\\mathrm{unknown,G}$   | Nature  |\n"
   ]
  },
  {
   "cell_type": "markdown",
   "id": "ba8a5ee5-e7ca-4981-a80a-8ca25d0345e7",
   "metadata": {},
   "source": [
    "___\n",
    "___"
   ]
  },
  {
   "cell_type": "markdown",
   "id": "59fa5a74-76cc-4272-aef7-ea0dc5b102e1",
   "metadata": {},
   "source": [
    "# Omnifold for EEC unfolding, (energy_weight, R_L, jet_pt)"
   ]
  },
  {
   "cell_type": "markdown",
   "id": "62beeb83-d1c8-4b9d-97bd-5a576e43f91c",
   "metadata": {},
   "source": [
    "#### we assume all imported root files consist of `TTree preprocessed` consiting of three columns `energy_weight`, `R_L`, and `jet_pt`"
   ]
  },
  {
   "cell_type": "markdown",
   "id": "3cd2b453-af50-4da3-810b-561f5c92676b",
   "metadata": {},
   "source": [
    "### Define variables to unfold"
   ]
  },
  {
   "cell_type": "code",
   "execution_count": 4,
   "id": "1b230e54-813d-4f3f-9968-1cbce7d6d438",
   "metadata": {},
   "outputs": [],
   "source": [
    "obs_features = [\"obs_energy_weight\", \"obs_R_L\", \"obs_jet_pt\"]\n",
    "gen_features = [\"gen_energy_weight\", \"gen_R_L\", \"gen_jet_pt\"]\n",
    "\n",
    "labels = [\"energy weight\", \"$R_L$\", \"jet $p_T$\"]"
   ]
  },
  {
   "cell_type": "markdown",
   "id": "a4c7f97c-5e8e-47d0-889f-aa5635c9bc02",
   "metadata": {},
   "source": [
    "### Import \"natural reco\": ALICE measured (testing: PYTHIA8 generator-level)\n",
    "### Import \"natural truth\": ALICE truth (testing: PYTHIA8 generator-level, unused during actuall unfolding) "
   ]
  },
  {
   "cell_type": "code",
   "execution_count": 5,
   "id": "c85d8118-44e6-434e-9d3d-8084a29bc57e",
   "metadata": {},
   "outputs": [],
   "source": [
    "natural_file = \"preprocess.root\"\n",
    "natural_tree = ur.open(\"%s:preprocessed\"%(natural_file))\n",
    "natural_df = natural_tree.arrays(library=\"pd\") #open the TTree as a pandas data frame\n",
    "#natural_df = natural_reco_df[natural_reco_df[\"obs_hfs_pt\"] != 0] #remove empty entries"
   ]
  },
  {
   "cell_type": "markdown",
   "id": "b6f91fd0-d647-4746-bd08-6b5d9af193ab",
   "metadata": {},
   "source": [
    "### Take a quick look at the data"
   ]
  },
  {
   "cell_type": "code",
   "execution_count": 6,
   "id": "e75eefd1-fe17-4d30-9aca-23d6fba7906c",
   "metadata": {},
   "outputs": [
    {
     "data": {
      "text/html": [
       "<div>\n",
       "<style scoped>\n",
       "    .dataframe tbody tr th:only-of-type {\n",
       "        vertical-align: middle;\n",
       "    }\n",
       "\n",
       "    .dataframe tbody tr th {\n",
       "        vertical-align: top;\n",
       "    }\n",
       "\n",
       "    .dataframe thead th {\n",
       "        text-align: right;\n",
       "    }\n",
       "</style>\n",
       "<table border=\"1\" class=\"dataframe\">\n",
       "  <thead>\n",
       "    <tr style=\"text-align: right;\">\n",
       "      <th></th>\n",
       "      <th>gen_energy_weight</th>\n",
       "      <th>gen_R_L</th>\n",
       "      <th>gen_jet_pt</th>\n",
       "      <th>obs_energy_weight</th>\n",
       "      <th>obs_R_L</th>\n",
       "      <th>obs_jet_pt</th>\n",
       "    </tr>\n",
       "  </thead>\n",
       "  <tbody>\n",
       "    <tr>\n",
       "      <th>count</th>\n",
       "      <td>3.341023e+06</td>\n",
       "      <td>3.341023e+06</td>\n",
       "      <td>3.341023e+06</td>\n",
       "      <td>3.341023e+06</td>\n",
       "      <td>3.341023e+06</td>\n",
       "      <td>3.341023e+06</td>\n",
       "    </tr>\n",
       "    <tr>\n",
       "      <th>mean</th>\n",
       "      <td>4.899743e-03</td>\n",
       "      <td>2.652810e-01</td>\n",
       "      <td>2.756940e+01</td>\n",
       "      <td>4.900285e-03</td>\n",
       "      <td>2.653188e-01</td>\n",
       "      <td>2.757369e+01</td>\n",
       "    </tr>\n",
       "    <tr>\n",
       "      <th>std</th>\n",
       "      <td>1.270022e-02</td>\n",
       "      <td>1.566855e-01</td>\n",
       "      <td>5.276119e+00</td>\n",
       "      <td>1.270438e-02</td>\n",
       "      <td>1.567004e-01</td>\n",
       "      <td>5.285447e+00</td>\n",
       "    </tr>\n",
       "    <tr>\n",
       "      <th>min</th>\n",
       "      <td>3.259725e-10</td>\n",
       "      <td>0.000000e+00</td>\n",
       "      <td>2.000215e+01</td>\n",
       "      <td>3.364545e-10</td>\n",
       "      <td>0.000000e+00</td>\n",
       "      <td>2.000065e+01</td>\n",
       "    </tr>\n",
       "    <tr>\n",
       "      <th>25%</th>\n",
       "      <td>4.197267e-04</td>\n",
       "      <td>1.498153e-01</td>\n",
       "      <td>2.309687e+01</td>\n",
       "      <td>4.196049e-04</td>\n",
       "      <td>1.498005e-01</td>\n",
       "      <td>2.309500e+01</td>\n",
       "    </tr>\n",
       "    <tr>\n",
       "      <th>50%</th>\n",
       "      <td>1.475508e-03</td>\n",
       "      <td>2.581179e-01</td>\n",
       "      <td>2.665108e+01</td>\n",
       "      <td>1.474815e-03</td>\n",
       "      <td>2.581521e-01</td>\n",
       "      <td>2.665812e+01</td>\n",
       "    </tr>\n",
       "    <tr>\n",
       "      <th>75%</th>\n",
       "      <td>4.630145e-03</td>\n",
       "      <td>3.710802e-01</td>\n",
       "      <td>3.132998e+01</td>\n",
       "      <td>4.628846e-03</td>\n",
       "      <td>3.711342e-01</td>\n",
       "      <td>3.132591e+01</td>\n",
       "    </tr>\n",
       "    <tr>\n",
       "      <th>max</th>\n",
       "      <td>1.000000e+00</td>\n",
       "      <td>9.641784e-01</td>\n",
       "      <td>3.999862e+01</td>\n",
       "      <td>1.000000e+00</td>\n",
       "      <td>9.640952e-01</td>\n",
       "      <td>3.999725e+01</td>\n",
       "    </tr>\n",
       "  </tbody>\n",
       "</table>\n",
       "</div>"
      ],
      "text/plain": [
       "       gen_energy_weight       gen_R_L    gen_jet_pt  obs_energy_weight  \\\n",
       "count       3.341023e+06  3.341023e+06  3.341023e+06       3.341023e+06   \n",
       "mean        4.899743e-03  2.652810e-01  2.756940e+01       4.900285e-03   \n",
       "std         1.270022e-02  1.566855e-01  5.276119e+00       1.270438e-02   \n",
       "min         3.259725e-10  0.000000e+00  2.000215e+01       3.364545e-10   \n",
       "25%         4.197267e-04  1.498153e-01  2.309687e+01       4.196049e-04   \n",
       "50%         1.475508e-03  2.581179e-01  2.665108e+01       1.474815e-03   \n",
       "75%         4.630145e-03  3.710802e-01  3.132998e+01       4.628846e-03   \n",
       "max         1.000000e+00  9.641784e-01  3.999862e+01       1.000000e+00   \n",
       "\n",
       "            obs_R_L    obs_jet_pt  \n",
       "count  3.341023e+06  3.341023e+06  \n",
       "mean   2.653188e-01  2.757369e+01  \n",
       "std    1.567004e-01  5.285447e+00  \n",
       "min    0.000000e+00  2.000065e+01  \n",
       "25%    1.498005e-01  2.309500e+01  \n",
       "50%    2.581521e-01  2.665812e+01  \n",
       "75%    3.711342e-01  3.132591e+01  \n",
       "max    9.640952e-01  3.999725e+01  "
      ]
     },
     "execution_count": 6,
     "metadata": {},
     "output_type": "execute_result"
    }
   ],
   "source": [
    "natural_df.describe()"
   ]
  },
  {
   "cell_type": "code",
   "execution_count": 7,
   "id": "fed2a2ab-400c-48dd-b585-5760ba4bd8ae",
   "metadata": {},
   "outputs": [
    {
     "data": {
      "text/html": [
       "<div>\n",
       "<style scoped>\n",
       "    .dataframe tbody tr th:only-of-type {\n",
       "        vertical-align: middle;\n",
       "    }\n",
       "\n",
       "    .dataframe tbody tr th {\n",
       "        vertical-align: top;\n",
       "    }\n",
       "\n",
       "    .dataframe thead th {\n",
       "        text-align: right;\n",
       "    }\n",
       "</style>\n",
       "<table border=\"1\" class=\"dataframe\">\n",
       "  <thead>\n",
       "    <tr style=\"text-align: right;\">\n",
       "      <th></th>\n",
       "      <th>gen_energy_weight</th>\n",
       "      <th>gen_R_L</th>\n",
       "      <th>gen_jet_pt</th>\n",
       "      <th>obs_energy_weight</th>\n",
       "      <th>obs_R_L</th>\n",
       "      <th>obs_jet_pt</th>\n",
       "    </tr>\n",
       "  </thead>\n",
       "  <tbody>\n",
       "    <tr>\n",
       "      <th>0</th>\n",
       "      <td>0.000023</td>\n",
       "      <td>0.000000</td>\n",
       "      <td>22.014918</td>\n",
       "      <td>0.000022</td>\n",
       "      <td>0.000000</td>\n",
       "      <td>22.166727</td>\n",
       "    </tr>\n",
       "    <tr>\n",
       "      <th>1</th>\n",
       "      <td>0.000027</td>\n",
       "      <td>0.173667</td>\n",
       "      <td>22.014918</td>\n",
       "      <td>0.000026</td>\n",
       "      <td>0.173788</td>\n",
       "      <td>22.166727</td>\n",
       "    </tr>\n",
       "    <tr>\n",
       "      <th>2</th>\n",
       "      <td>0.000187</td>\n",
       "      <td>0.664020</td>\n",
       "      <td>22.014918</td>\n",
       "      <td>0.000181</td>\n",
       "      <td>0.664072</td>\n",
       "      <td>22.166727</td>\n",
       "    </tr>\n",
       "    <tr>\n",
       "      <th>3</th>\n",
       "      <td>0.000082</td>\n",
       "      <td>0.140139</td>\n",
       "      <td>22.014918</td>\n",
       "      <td>0.000080</td>\n",
       "      <td>0.139318</td>\n",
       "      <td>22.166727</td>\n",
       "    </tr>\n",
       "    <tr>\n",
       "      <th>4</th>\n",
       "      <td>0.000031</td>\n",
       "      <td>0.518340</td>\n",
       "      <td>22.014918</td>\n",
       "      <td>0.000030</td>\n",
       "      <td>0.517394</td>\n",
       "      <td>22.166727</td>\n",
       "    </tr>\n",
       "    <tr>\n",
       "      <th>5</th>\n",
       "      <td>0.000942</td>\n",
       "      <td>0.562282</td>\n",
       "      <td>22.014918</td>\n",
       "      <td>0.000944</td>\n",
       "      <td>0.559553</td>\n",
       "      <td>22.166727</td>\n",
       "    </tr>\n",
       "    <tr>\n",
       "      <th>6</th>\n",
       "      <td>0.000179</td>\n",
       "      <td>0.123040</td>\n",
       "      <td>22.014918</td>\n",
       "      <td>0.000178</td>\n",
       "      <td>0.121196</td>\n",
       "      <td>22.166727</td>\n",
       "    </tr>\n",
       "    <tr>\n",
       "      <th>7</th>\n",
       "      <td>0.000094</td>\n",
       "      <td>0.533048</td>\n",
       "      <td>22.014918</td>\n",
       "      <td>0.000092</td>\n",
       "      <td>0.533726</td>\n",
       "      <td>22.166727</td>\n",
       "    </tr>\n",
       "    <tr>\n",
       "      <th>8</th>\n",
       "      <td>0.000392</td>\n",
       "      <td>0.580490</td>\n",
       "      <td>22.014918</td>\n",
       "      <td>0.000384</td>\n",
       "      <td>0.580490</td>\n",
       "      <td>22.166727</td>\n",
       "    </tr>\n",
       "    <tr>\n",
       "      <th>9</th>\n",
       "      <td>0.000183</td>\n",
       "      <td>0.492153</td>\n",
       "      <td>22.014918</td>\n",
       "      <td>0.000176</td>\n",
       "      <td>0.492344</td>\n",
       "      <td>22.166727</td>\n",
       "    </tr>\n",
       "  </tbody>\n",
       "</table>\n",
       "</div>"
      ],
      "text/plain": [
       "   gen_energy_weight   gen_R_L  gen_jet_pt  obs_energy_weight   obs_R_L  \\\n",
       "0           0.000023  0.000000   22.014918           0.000022  0.000000   \n",
       "1           0.000027  0.173667   22.014918           0.000026  0.173788   \n",
       "2           0.000187  0.664020   22.014918           0.000181  0.664072   \n",
       "3           0.000082  0.140139   22.014918           0.000080  0.139318   \n",
       "4           0.000031  0.518340   22.014918           0.000030  0.517394   \n",
       "5           0.000942  0.562282   22.014918           0.000944  0.559553   \n",
       "6           0.000179  0.123040   22.014918           0.000178  0.121196   \n",
       "7           0.000094  0.533048   22.014918           0.000092  0.533726   \n",
       "8           0.000392  0.580490   22.014918           0.000384  0.580490   \n",
       "9           0.000183  0.492153   22.014918           0.000176  0.492344   \n",
       "\n",
       "   obs_jet_pt  \n",
       "0   22.166727  \n",
       "1   22.166727  \n",
       "2   22.166727  \n",
       "3   22.166727  \n",
       "4   22.166727  \n",
       "5   22.166727  \n",
       "6   22.166727  \n",
       "7   22.166727  \n",
       "8   22.166727  \n",
       "9   22.166727  "
      ]
     },
     "execution_count": 7,
     "metadata": {},
     "output_type": "execute_result"
    }
   ],
   "source": [
    "natural_df.head(10)"
   ]
  },
  {
   "cell_type": "markdown",
   "id": "4861f231-5cb2-46bb-83f3-e624d5f91330",
   "metadata": {},
   "source": [
    "### Jet pt resolution"
   ]
  },
  {
   "cell_type": "code",
   "execution_count": 16,
   "id": "c02a6163-4bf4-4898-ab57-2106bd1fab02",
   "metadata": {},
   "outputs": [
    {
     "data": {
      "text/plain": [
       "<matplotlib.legend.Legend at 0x7f367e695ba8>"
      ]
     },
     "execution_count": 16,
     "metadata": {},
     "output_type": "execute_result"
    },
    {
     "data": {
      "image/png": "[encoded data removed]",
      "text/plain": [
       "<Figure size 432x288 with 1 Axes>"
      ]
     },
     "metadata": {
      "needs_background": "light"
     },
     "output_type": "display_data"
    }
   ],
   "source": [
    "binning = np.linspace(-0.05, 0.05, 100)\n",
    "\n",
    "_,_,_=plt.hist((natural_df['obs_jet_pt'] - natural_df['gen_jet_pt']) / natural_df['obs_jet_pt'], binning, color='blue', alpha=0.5, label=\"MC, true\")\n",
    "\n",
    "plt.xlabel(\"resolution\")\n",
    "plt.ylabel(\"counts\")\n",
    "plt.xlim(-0.05, 0.05)\n",
    "#plt.yscale('log')\n",
    "plt.title(\"Jet pt resolution\")\n",
    "plt.legend(frameon=False, loc='upper left')"
   ]
  },
  {
   "cell_type": "markdown",
   "id": "8a0e6803-a1a4-4c5f-b6e1-8d57751b08f7",
   "metadata": {},
   "source": [
    "### Import \"synthetic simulation\", both generated and reconstructed level."
   ]
  },
  {
   "cell_type": "code",
   "execution_count": 8,
   "id": "3cb960ab-40b9-4551-ba69-c37bed5c25cd",
   "metadata": {
    "tags": []
   },
   "outputs": [],
   "source": [
    "synthetic_file = \"preprocess.root\"\n",
    "synth_tree = ur.open(\"%s:preprocessed\"%(synthetic_file))\n",
    "synth_df = synth_tree.arrays(library=\"pd\")\n",
    "#synth_df = synth_df[synth_df[\"obs_hfs_pt\"] != 0]"
   ]
  },
  {
   "cell_type": "code",
   "execution_count": 9,
   "id": "50564150-375a-45e9-8454-cf4d4c23b422",
   "metadata": {},
   "outputs": [
    {
     "data": {
      "text/html": [
       "<div>\n",
       "<style scoped>\n",
       "    .dataframe tbody tr th:only-of-type {\n",
       "        vertical-align: middle;\n",
       "    }\n",
       "\n",
       "    .dataframe tbody tr th {\n",
       "        vertical-align: top;\n",
       "    }\n",
       "\n",
       "    .dataframe thead th {\n",
       "        text-align: right;\n",
       "    }\n",
       "</style>\n",
       "<table border=\"1\" class=\"dataframe\">\n",
       "  <thead>\n",
       "    <tr style=\"text-align: right;\">\n",
       "      <th></th>\n",
       "      <th>gen_energy_weight</th>\n",
       "      <th>gen_R_L</th>\n",
       "      <th>gen_jet_pt</th>\n",
       "      <th>obs_energy_weight</th>\n",
       "      <th>obs_R_L</th>\n",
       "      <th>obs_jet_pt</th>\n",
       "    </tr>\n",
       "  </thead>\n",
       "  <tbody>\n",
       "    <tr>\n",
       "      <th>0</th>\n",
       "      <td>0.000023</td>\n",
       "      <td>0.000000</td>\n",
       "      <td>22.014918</td>\n",
       "      <td>0.000022</td>\n",
       "      <td>0.000000</td>\n",
       "      <td>22.166727</td>\n",
       "    </tr>\n",
       "    <tr>\n",
       "      <th>1</th>\n",
       "      <td>0.000027</td>\n",
       "      <td>0.173667</td>\n",
       "      <td>22.014918</td>\n",
       "      <td>0.000026</td>\n",
       "      <td>0.173788</td>\n",
       "      <td>22.166727</td>\n",
       "    </tr>\n",
       "    <tr>\n",
       "      <th>2</th>\n",
       "      <td>0.000187</td>\n",
       "      <td>0.664020</td>\n",
       "      <td>22.014918</td>\n",
       "      <td>0.000181</td>\n",
       "      <td>0.664072</td>\n",
       "      <td>22.166727</td>\n",
       "    </tr>\n",
       "    <tr>\n",
       "      <th>3</th>\n",
       "      <td>0.000082</td>\n",
       "      <td>0.140139</td>\n",
       "      <td>22.014918</td>\n",
       "      <td>0.000080</td>\n",
       "      <td>0.139318</td>\n",
       "      <td>22.166727</td>\n",
       "    </tr>\n",
       "    <tr>\n",
       "      <th>4</th>\n",
       "      <td>0.000031</td>\n",
       "      <td>0.518340</td>\n",
       "      <td>22.014918</td>\n",
       "      <td>0.000030</td>\n",
       "      <td>0.517394</td>\n",
       "      <td>22.166727</td>\n",
       "    </tr>\n",
       "    <tr>\n",
       "      <th>5</th>\n",
       "      <td>0.000942</td>\n",
       "      <td>0.562282</td>\n",
       "      <td>22.014918</td>\n",
       "      <td>0.000944</td>\n",
       "      <td>0.559553</td>\n",
       "      <td>22.166727</td>\n",
       "    </tr>\n",
       "    <tr>\n",
       "      <th>6</th>\n",
       "      <td>0.000179</td>\n",
       "      <td>0.123040</td>\n",
       "      <td>22.014918</td>\n",
       "      <td>0.000178</td>\n",
       "      <td>0.121196</td>\n",
       "      <td>22.166727</td>\n",
       "    </tr>\n",
       "    <tr>\n",
       "      <th>7</th>\n",
       "      <td>0.000094</td>\n",
       "      <td>0.533048</td>\n",
       "      <td>22.014918</td>\n",
       "      <td>0.000092</td>\n",
       "      <td>0.533726</td>\n",
       "      <td>22.166727</td>\n",
       "    </tr>\n",
       "    <tr>\n",
       "      <th>8</th>\n",
       "      <td>0.000392</td>\n",
       "      <td>0.580490</td>\n",
       "      <td>22.014918</td>\n",
       "      <td>0.000384</td>\n",
       "      <td>0.580490</td>\n",
       "      <td>22.166727</td>\n",
       "    </tr>\n",
       "    <tr>\n",
       "      <th>9</th>\n",
       "      <td>0.000183</td>\n",
       "      <td>0.492153</td>\n",
       "      <td>22.014918</td>\n",
       "      <td>0.000176</td>\n",
       "      <td>0.492344</td>\n",
       "      <td>22.166727</td>\n",
       "    </tr>\n",
       "  </tbody>\n",
       "</table>\n",
       "</div>"
      ],
      "text/plain": [
       "   gen_energy_weight   gen_R_L  gen_jet_pt  obs_energy_weight   obs_R_L  \\\n",
       "0           0.000023  0.000000   22.014918           0.000022  0.000000   \n",
       "1           0.000027  0.173667   22.014918           0.000026  0.173788   \n",
       "2           0.000187  0.664020   22.014918           0.000181  0.664072   \n",
       "3           0.000082  0.140139   22.014918           0.000080  0.139318   \n",
       "4           0.000031  0.518340   22.014918           0.000030  0.517394   \n",
       "5           0.000942  0.562282   22.014918           0.000944  0.559553   \n",
       "6           0.000179  0.123040   22.014918           0.000178  0.121196   \n",
       "7           0.000094  0.533048   22.014918           0.000092  0.533726   \n",
       "8           0.000392  0.580490   22.014918           0.000384  0.580490   \n",
       "9           0.000183  0.492153   22.014918           0.000176  0.492344   \n",
       "\n",
       "   obs_jet_pt  \n",
       "0   22.166727  \n",
       "1   22.166727  \n",
       "2   22.166727  \n",
       "3   22.166727  \n",
       "4   22.166727  \n",
       "5   22.166727  \n",
       "6   22.166727  \n",
       "7   22.166727  \n",
       "8   22.166727  \n",
       "9   22.166727  "
      ]
     },
     "execution_count": 9,
     "metadata": {},
     "output_type": "execute_result"
    }
   ],
   "source": [
    "synth_df.head(10) #look at 3 entries"
   ]
  },
  {
   "cell_type": "markdown",
   "id": "e45d03b3-42c8-4140-87f5-6128d0beae7a",
   "metadata": {},
   "source": [
    "### define 4 main datasets"
   ]
  },
  {
   "cell_type": "code",
   "execution_count": 10,
   "id": "61e2d71c-b0ba-49b0-b087-7575dba1fb53",
   "metadata": {},
   "outputs": [],
   "source": [
    "theta_unknown_S = natural_df[obs_features].to_numpy() #Reconstructed Data\n",
    "theta_unknown_G = natural_df[gen_features].to_numpy() #Nature, which unfolded data approaches\n",
    "\n",
    "theta0_S = synth_df[obs_features].to_numpy() #Simulated, synthetic reco-level\n",
    "theta0_G = synth_df[gen_features].to_numpy() #Generated, synthetic truth-level"
   ]
  },
  {
   "cell_type": "markdown",
   "id": "9d3f392e-b84d-47a3-bece-508bca2f4f5a",
   "metadata": {},
   "source": [
    "### Ensure the samples have the same number of entries"
   ]
  },
  {
   "cell_type": "code",
   "execution_count": 11,
   "id": "6f180e2a-2411-4725-a7d7-df946242fb54",
   "metadata": {},
   "outputs": [],
   "source": [
    "N_Events = min(np.shape(theta0_S)[0],np.shape(theta_unknown_S)[0])-1\n",
    "\n",
    "# Synthetic\n",
    "theta0_S = theta0_S[:N_Events]\n",
    "theta0_G = theta0_G[:N_Events]\n",
    "\n",
    "theta0 = np.stack([theta0_S, theta0_G], axis=1)\n",
    "\n",
    "# Natural\n",
    "theta_unknown_S = theta_unknown_S[:N_Events]\n",
    "theta_unknown_G = theta_unknown_G[:N_Events]"
   ]
  },
  {
   "cell_type": "code",
   "execution_count": 12,
   "id": "fb429ef3-f0fe-4fa7-b9c4-9f4e7564913a",
   "metadata": {},
   "outputs": [
    {
     "data": {
      "image/png": "[encoded data removed]",
      "text/plain": [
       "<Figure size 1080x288 with 3 Axes>"
      ]
     },
     "metadata": {
      "needs_background": "light"
     },
     "output_type": "display_data"
    }
   ],
   "source": [
    "N = len(obs_features)\n",
    "\n",
    "binning = [np.logspace(-7,np.log10(0.3),100),np.logspace(-4,0,100),\n",
    "           np.linspace(20,40,100),np.linspace(-10,40,100),np.linspace(-2,2,100)]\n",
    "\n",
    "fig, axes = plt.subplots(1, 3, figsize=(15,4))\n",
    "\n",
    "obs_i = 0\n",
    "\n",
    "for i,ax in enumerate(axes.ravel()):\n",
    "    if (i >= N): break\n",
    "    _,_,_=ax.hist(theta0_G[:,i],binning[i],color='blue',alpha=0.5,label=\"MC, true\")\n",
    "    _,_,_=ax.hist(theta0_S[:,i],binning[i],histtype=\"step\",color='black',ls=':',label=\"MC, reco\")\n",
    "    _,_,_=ax.hist(theta_unknown_G[:,i],binning[i],color='orange',alpha=0.5,label=\"Data, true\")\n",
    "    _,_,_=ax.hist(theta_unknown_S[:,i],binning[i],histtype=\"step\",color='black',label=\"Data, reco\")\n",
    "\n",
    "    ax.set_title(labels[i])\n",
    "    ax.set_xlabel(labels[i])\n",
    "    ax.set_ylabel(\"Events\")\n",
    "    ax.legend(frameon=False)\n",
    "    \n",
    "    if obs_i in [0, 1]:\n",
    "        ax.set_xscale('log')\n",
    "        ax.set_yscale('log')\n",
    "        \n",
    "    obs_i += 1\n",
    "    \n",
    "fig.tight_layout()"
   ]
  },
  {
   "cell_type": "code",
   "execution_count": 13,
   "id": "ce3a8d57-5640-487a-a722-3efe79f18540",
   "metadata": {},
   "outputs": [],
   "source": [
    "inputs = Input((len(obs_features), ))\n",
    "hidden_layer_1 = Dense(50, activation='relu')(inputs)\n",
    "hidden_layer_2 = Dense(50, activation='relu')(hidden_layer_1)\n",
    "hidden_layer_3 = Dense(50, activation='relu')(hidden_layer_2)\n",
    "outputs = Dense(1, activation='sigmoid')(hidden_layer_3)\n",
    "model_dis = Model(inputs=inputs, outputs=outputs)"
   ]
  },
  {
   "cell_type": "code",
   "execution_count": 14,
   "id": "49c36d4b-1790-419e-a276-f66a59dd6504",
   "metadata": {},
   "outputs": [
    {
     "name": "stdout",
     "output_type": "stream",
     "text": [
      "(3341022, 3)\n",
      "(3341022, 3)\n",
      "(3341022, 3)\n"
     ]
    }
   ],
   "source": [
    "print(theta0_G.shape)\n",
    "print(theta0_S.shape)\n",
    "print(theta_unknown_S.shape)"
   ]
  },
  {
   "cell_type": "code",
   "execution_count": 15,
   "id": "2538e0db-feb5-45c8-97b4-1f974ab885d1",
   "metadata": {
    "scrolled": true,
    "tags": []
   },
   "outputs": [
    {
     "name": "stdout",
     "output_type": "stream",
     "text": [
      "\n",
      "ITERATION: 1\n",
      "\n",
      "STEP 1\n",
      "\n",
      "Epoch 1/20\n",
      "502/502 [==============================] - 4s 6ms/step - loss: 0.6947 - accuracy: 0.4925 - val_loss: 0.6932 - val_accuracy: 0.2500\n",
      "Epoch 2/20\n",
      "502/502 [==============================] - 3s 5ms/step - loss: 0.6934 - accuracy: 0.5016 - val_loss: 0.6935 - val_accuracy: 0.2499\n",
      "Epoch 3/20\n",
      "502/502 [==============================] - 3s 5ms/step - loss: 0.6934 - accuracy: 0.5049 - val_loss: 0.6932 - val_accuracy: 0.7494\n",
      "Epoch 4/20\n",
      "502/502 [==============================] - 3s 6ms/step - loss: 0.6935 - accuracy: 0.4903 - val_loss: 0.6934 - val_accuracy: 0.2499\n",
      "Epoch 5/20\n",
      "502/502 [==============================] - 3s 6ms/step - loss: 0.6933 - accuracy: 0.4954 - val_loss: 0.6932 - val_accuracy: 0.7501\n",
      "Epoch 6/20\n",
      "502/502 [==============================] - 3s 6ms/step - loss: 0.6934 - accuracy: 0.5054 - val_loss: 0.6935 - val_accuracy: 0.2499\n",
      "Epoch 7/20\n",
      "502/502 [==============================] - 3s 6ms/step - loss: 0.6934 - accuracy: 0.4967 - val_loss: 0.6933 - val_accuracy: 0.2499\n",
      "Epoch 8/20\n",
      "502/502 [==============================] - 3s 6ms/step - loss: 0.6933 - accuracy: 0.4950 - val_loss: 0.6932 - val_accuracy: 0.7376\n",
      "Epoch 9/20\n",
      "502/502 [==============================] - 3s 6ms/step - loss: 0.6933 - accuracy: 0.5041 - val_loss: 0.6937 - val_accuracy: 0.2499\n",
      "Epoch 10/20\n",
      "502/502 [==============================] - 3s 6ms/step - loss: 0.6933 - accuracy: 0.5061 - val_loss: 0.6932 - val_accuracy: 0.7501\n",
      "Epoch 11/20\n",
      "502/502 [==============================] - 3s 6ms/step - loss: 0.6932 - accuracy: 0.5014 - val_loss: 0.6932 - val_accuracy: 0.2499\n",
      "Epoch 12/20\n",
      "502/502 [==============================] - 3s 6ms/step - loss: 0.6932 - accuracy: 0.4984 - val_loss: 0.6933 - val_accuracy: 0.7501\n",
      "Epoch 13/20\n",
      "502/502 [==============================] - 3s 6ms/step - loss: 0.6932 - accuracy: 0.5064 - val_loss: 0.6932 - val_accuracy: 0.7501\n",
      "Epoch 14/20\n",
      "502/502 [==============================] - 3s 6ms/step - loss: 0.6932 - accuracy: 0.4876 - val_loss: 0.6932 - val_accuracy: 0.2499\n",
      "Epoch 15/20\n",
      "502/502 [==============================] - 3s 6ms/step - loss: 0.6932 - accuracy: 0.4966 - val_loss: 0.6932 - val_accuracy: 0.7501\n",
      "Epoch 16/20\n",
      "502/502 [==============================] - 3s 6ms/step - loss: 0.6932 - accuracy: 0.4802 - val_loss: 0.6932 - val_accuracy: 0.7501\n",
      "Epoch 17/20\n",
      "502/502 [==============================] - 3s 5ms/step - loss: 0.6932 - accuracy: 0.4656 - val_loss: 0.6931 - val_accuracy: 0.6445\n",
      "Epoch 18/20\n",
      "502/502 [==============================] - 3s 6ms/step - loss: 0.6932 - accuracy: 0.5074 - val_loss: 0.6932 - val_accuracy: 0.2499\n",
      "Epoch 19/20\n",
      "502/502 [==============================] - 3s 5ms/step - loss: 0.6932 - accuracy: 0.4850 - val_loss: 0.6931 - val_accuracy: 0.7501\n",
      "Epoch 20/20\n",
      "502/502 [==============================] - 3s 5ms/step - loss: 0.6932 - accuracy: 0.4710 - val_loss: 0.6932 - val_accuracy: 0.2499\n",
      "\n",
      "STEP 2\n",
      "\n",
      "Epoch 1/20\n",
      "2506/2506 [==============================] - 11s 4ms/step - loss: 0.6912 - accuracy: 0.2854 - val_loss: 0.6912 - val_accuracy: 0.2501\n",
      "Epoch 2/20\n",
      "2506/2506 [==============================] - 10s 4ms/step - loss: 0.6912 - accuracy: 0.2911 - val_loss: 0.6912 - val_accuracy: 0.2501\n",
      "Epoch 3/20\n",
      "2506/2506 [==============================] - 10s 4ms/step - loss: 0.6912 - accuracy: 0.2867 - val_loss: 0.6912 - val_accuracy: 0.5000\n",
      "Epoch 4/20\n",
      "2506/2506 [==============================] - 10s 4ms/step - loss: 0.6912 - accuracy: 0.2861 - val_loss: 0.6912 - val_accuracy: 0.2501\n",
      "Epoch 5/20\n",
      "2506/2506 [==============================] - 10s 4ms/step - loss: 0.6912 - accuracy: 0.2829 - val_loss: 0.6912 - val_accuracy: 0.2501\n",
      "Epoch 6/20\n",
      "2506/2506 [==============================] - 10s 4ms/step - loss: 0.6912 - accuracy: 0.2731 - val_loss: 0.6912 - val_accuracy: 0.2501\n",
      "Epoch 7/20\n",
      "2506/2506 [==============================] - 10s 4ms/step - loss: 0.6912 - accuracy: 0.2756 - val_loss: 0.6912 - val_accuracy: 0.2501\n",
      "Epoch 8/20\n",
      "2506/2506 [==============================] - 10s 4ms/step - loss: 0.6912 - accuracy: 0.2794 - val_loss: 0.6912 - val_accuracy: 0.2501\n",
      "Epoch 9/20\n",
      "2506/2506 [==============================] - 10s 4ms/step - loss: 0.6912 - accuracy: 0.2698 - val_loss: 0.6912 - val_accuracy: 0.2501\n",
      "Epoch 10/20\n",
      "2506/2506 [==============================] - 10s 4ms/step - loss: 0.6912 - accuracy: 0.2765 - val_loss: 0.6912 - val_accuracy: 0.2501\n",
      "Epoch 11/20\n",
      "2506/2506 [==============================] - 10s 4ms/step - loss: 0.6912 - accuracy: 0.2708 - val_loss: 0.6912 - val_accuracy: 0.2501\n",
      "Epoch 12/20\n",
      "2506/2506 [==============================] - 10s 4ms/step - loss: 0.6912 - accuracy: 0.2896 - val_loss: 0.6912 - val_accuracy: 0.5000\n",
      "Epoch 13/20\n",
      "2506/2506 [==============================] - 10s 4ms/step - loss: 0.6912 - accuracy: 0.2771 - val_loss: 0.6912 - val_accuracy: 0.2501\n",
      "Epoch 14/20\n",
      "2506/2506 [==============================] - 10s 4ms/step - loss: 0.6912 - accuracy: 0.2778 - val_loss: 0.6912 - val_accuracy: 0.2501\n",
      "Epoch 15/20\n",
      "2506/2506 [==============================] - 10s 4ms/step - loss: 0.6912 - accuracy: 0.2845 - val_loss: 0.6912 - val_accuracy: 0.2501\n",
      "Epoch 16/20\n",
      "2506/2506 [==============================] - 10s 4ms/step - loss: 0.6912 - accuracy: 0.2901 - val_loss: 0.6912 - val_accuracy: 0.2501\n",
      "Epoch 17/20\n",
      "2506/2506 [==============================] - 10s 4ms/step - loss: 0.6912 - accuracy: 0.2852 - val_loss: 0.6912 - val_accuracy: 0.2501\n",
      "Epoch 18/20\n",
      "2506/2506 [==============================] - 10s 4ms/step - loss: 0.6912 - accuracy: 0.2798 - val_loss: 0.6912 - val_accuracy: 0.2501\n",
      "Epoch 19/20\n",
      "2506/2506 [==============================] - 10s 4ms/step - loss: 0.6912 - accuracy: 0.2795 - val_loss: 0.6912 - val_accuracy: 0.5000\n",
      "Epoch 20/20\n",
      "2506/2506 [==============================] - 10s 4ms/step - loss: 0.6912 - accuracy: 0.2813 - val_loss: 0.6912 - val_accuracy: 0.2501\n",
      "\n",
      "ITERATION: 2\n",
      "\n",
      "STEP 1\n",
      "\n",
      "Epoch 1/20\n",
      "502/502 [==============================] - 4s 6ms/step - loss: 0.6879 - accuracy: 0.4887 - val_loss: 0.6879 - val_accuracy: 0.4999\n",
      "Epoch 2/20\n",
      "502/502 [==============================] - 3s 6ms/step - loss: 0.6879 - accuracy: 0.5000 - val_loss: 0.6879 - val_accuracy: 0.4999\n",
      "Epoch 3/20\n",
      "502/502 [==============================] - 3s 6ms/step - loss: 0.6879 - accuracy: 0.5000 - val_loss: 0.6879 - val_accuracy: 0.4999\n",
      "Epoch 4/20\n",
      "502/502 [==============================] - 3s 6ms/step - loss: 0.6879 - accuracy: 0.5000 - val_loss: 0.6879 - val_accuracy: 0.4999\n",
      "Epoch 5/20\n",
      "502/502 [==============================] - 3s 6ms/step - loss: 0.6879 - accuracy: 0.5000 - val_loss: 0.6879 - val_accuracy: 0.4999\n",
      "Epoch 6/20\n",
      "502/502 [==============================] - 3s 6ms/step - loss: 0.6879 - accuracy: 0.5000 - val_loss: 0.6879 - val_accuracy: 0.4999\n",
      "Epoch 7/20\n",
      "502/502 [==============================] - 3s 6ms/step - loss: 0.6879 - accuracy: 0.5000 - val_loss: 0.6879 - val_accuracy: 0.4999\n",
      "Epoch 8/20\n",
      "502/502 [==============================] - 3s 6ms/step - loss: 0.6879 - accuracy: 0.5000 - val_loss: 0.6879 - val_accuracy: 0.4999\n",
      "Epoch 9/20\n",
      "502/502 [==============================] - 3s 6ms/step - loss: 0.6879 - accuracy: 0.5000 - val_loss: 0.6879 - val_accuracy: 0.4999\n",
      "Epoch 10/20\n",
      "502/502 [==============================] - 3s 6ms/step - loss: 0.6879 - accuracy: 0.5000 - val_loss: 0.6879 - val_accuracy: 0.4999\n",
      "Epoch 11/20\n",
      "502/502 [==============================] - 3s 6ms/step - loss: 0.6879 - accuracy: 0.5000 - val_loss: 0.6879 - val_accuracy: 0.4999\n",
      "Epoch 12/20\n",
      "502/502 [==============================] - 3s 6ms/step - loss: 0.6879 - accuracy: 0.5000 - val_loss: 0.6879 - val_accuracy: 0.4999\n",
      "Epoch 13/20\n",
      "502/502 [==============================] - 3s 6ms/step - loss: 0.6879 - accuracy: 0.5000 - val_loss: 0.6879 - val_accuracy: 0.4999\n",
      "Epoch 14/20\n",
      "502/502 [==============================] - 3s 6ms/step - loss: 0.6879 - accuracy: 0.5000 - val_loss: 0.6879 - val_accuracy: 0.4999\n",
      "Epoch 15/20\n",
      "502/502 [==============================] - 3s 6ms/step - loss: 0.6879 - accuracy: 0.5000 - val_loss: 0.6879 - val_accuracy: 0.4999\n",
      "Epoch 16/20\n",
      "502/502 [==============================] - 3s 6ms/step - loss: 0.6879 - accuracy: 0.5000 - val_loss: 0.6879 - val_accuracy: 0.4999\n",
      "Epoch 17/20\n",
      "502/502 [==============================] - 3s 6ms/step - loss: 0.6879 - accuracy: 0.5000 - val_loss: 0.6879 - val_accuracy: 0.4999\n",
      "Epoch 18/20\n",
      "502/502 [==============================] - 3s 6ms/step - loss: 0.6879 - accuracy: 0.5000 - val_loss: 0.6879 - val_accuracy: 0.4999\n",
      "Epoch 19/20\n",
      "502/502 [==============================] - 3s 6ms/step - loss: 0.6879 - accuracy: 0.5000 - val_loss: 0.6879 - val_accuracy: 0.4999\n",
      "Epoch 20/20\n",
      "502/502 [==============================] - 3s 6ms/step - loss: 0.6879 - accuracy: 0.5000 - val_loss: 0.6879 - val_accuracy: 0.4999\n",
      "\n",
      "STEP 2\n",
      "\n",
      "Epoch 1/20\n",
      "2506/2506 [==============================] - 11s 4ms/step - loss: 0.6932 - accuracy: 0.3649 - val_loss: 0.6932 - val_accuracy: 0.5000\n",
      "Epoch 2/20\n",
      "2506/2506 [==============================] - 10s 4ms/step - loss: 0.6932 - accuracy: 0.3606 - val_loss: 0.6932 - val_accuracy: 0.5000\n",
      "Epoch 3/20\n",
      "2506/2506 [==============================] - 10s 4ms/step - loss: 0.6932 - accuracy: 0.3693 - val_loss: 0.6932 - val_accuracy: 0.2497\n",
      "Epoch 4/20\n",
      "2506/2506 [==============================] - 10s 4ms/step - loss: 0.6932 - accuracy: 0.3475 - val_loss: 0.6932 - val_accuracy: 0.2497\n",
      "Epoch 5/20\n",
      "2506/2506 [==============================] - 10s 4ms/step - loss: 0.6932 - accuracy: 0.3547 - val_loss: 0.6932 - val_accuracy: 0.2497\n",
      "Epoch 6/20\n",
      "2506/2506 [==============================] - 10s 4ms/step - loss: 0.6932 - accuracy: 0.3559 - val_loss: 0.6932 - val_accuracy: 0.2497\n",
      "Epoch 7/20\n",
      "2506/2506 [==============================] - 9s 4ms/step - loss: 0.6932 - accuracy: 0.3571 - val_loss: 0.6932 - val_accuracy: 0.2497\n",
      "Epoch 8/20\n",
      "2506/2506 [==============================] - 10s 4ms/step - loss: 0.6932 - accuracy: 0.3527 - val_loss: 0.6932 - val_accuracy: 0.5000\n",
      "Epoch 9/20\n",
      "2506/2506 [==============================] - 9s 4ms/step - loss: 0.6932 - accuracy: 0.3640 - val_loss: 0.6932 - val_accuracy: 0.2497\n",
      "Epoch 10/20\n",
      "2506/2506 [==============================] - 10s 4ms/step - loss: 0.6932 - accuracy: 0.3595 - val_loss: 0.6932 - val_accuracy: 0.2497\n",
      "Epoch 11/20\n",
      "2506/2506 [==============================] - 10s 4ms/step - loss: 0.6932 - accuracy: 0.3596 - val_loss: 0.6932 - val_accuracy: 0.5000\n",
      "Epoch 12/20\n",
      "2506/2506 [==============================] - 10s 4ms/step - loss: 0.6932 - accuracy: 0.3619 - val_loss: 0.6932 - val_accuracy: 0.2497\n",
      "Epoch 13/20\n",
      "2506/2506 [==============================] - 10s 4ms/step - loss: 0.6932 - accuracy: 0.3707 - val_loss: 0.6932 - val_accuracy: 0.2497\n",
      "Epoch 14/20\n",
      "2506/2506 [==============================] - 10s 4ms/step - loss: 0.6932 - accuracy: 0.3687 - val_loss: 0.6932 - val_accuracy: 0.5000\n",
      "Epoch 15/20\n",
      "2506/2506 [==============================] - 10s 4ms/step - loss: 0.6932 - accuracy: 0.3551 - val_loss: 0.6932 - val_accuracy: 0.2497\n",
      "Epoch 16/20\n",
      "2506/2506 [==============================] - 10s 4ms/step - loss: 0.6932 - accuracy: 0.3566 - val_loss: 0.6932 - val_accuracy: 0.5000\n",
      "Epoch 17/20\n",
      "2506/2506 [==============================] - 10s 4ms/step - loss: 0.6932 - accuracy: 0.3669 - val_loss: 0.6932 - val_accuracy: 0.5000\n",
      "Epoch 18/20\n",
      "2506/2506 [==============================] - 10s 4ms/step - loss: 0.6932 - accuracy: 0.3654 - val_loss: 0.6932 - val_accuracy: 0.2497\n",
      "Epoch 19/20\n",
      "2506/2506 [==============================] - 10s 4ms/step - loss: 0.6932 - accuracy: 0.3526 - val_loss: 0.6932 - val_accuracy: 0.2497\n",
      "Epoch 20/20\n",
      "2506/2506 [==============================] - 10s 4ms/step - loss: 0.6932 - accuracy: 0.3596 - val_loss: 0.6932 - val_accuracy: 0.2497\n"
     ]
    }
   ],
   "source": [
    "N_Iterations = 2\n",
    "myweights = of.omnifold(theta0,theta_unknown_S,N_Iterations,model_dis, verbose=1)"
   ]
  },
  {
   "cell_type": "code",
   "execution_count": 16,
   "id": "bfe66aad-d784-490f-aba7-bf38d7857163",
   "metadata": {},
   "outputs": [
    {
     "data": {
      "image/png": "[encoded data removed]",
      "text/plain": [
       "<Figure size 1080x288 with 3 Axes>"
      ]
     },
     "metadata": {
      "needs_background": "light"
     },
     "output_type": "display_data"
    }
   ],
   "source": [
    "fig, axes = plt.subplots(1, 3, figsize=(15,4))\n",
    "\n",
    "obs_i = 0\n",
    "\n",
    "for i,ax in enumerate(axes.ravel()):\n",
    "    if (i >= N): break\n",
    "    _,_,_=ax.hist(theta0_G[:,i],binning[i],color='blue',alpha=0.5,label=\"MC, true\")\n",
    "    _,_,_=ax.hist(theta_unknown_G[:,i],binning[i],color='orange',alpha=0.5,label=\"Data, true\")\n",
    "    _,_,_=ax.hist(theta0_G[:,i],weights=myweights[-1, 0, :],bins=binning[i],color='black',histtype=\"step\",label=\"OmniFolded\",lw=\"2\")\n",
    "\n",
    "    ax.set_title(labels[i])\n",
    "    ax.set_xlabel(labels[i])\n",
    "    ax.set_ylabel(\"Events\")\n",
    "    ax.legend(frameon=False)\n",
    "    \n",
    "    if obs_i in [0, 1]:\n",
    "        ax.set_xscale('log')\n",
    "        ax.set_yscale('log')\n",
    "        \n",
    "    obs_i += 1\n",
    "    \n",
    "fig.tight_layout()"
   ]
  },
  {
   "cell_type": "markdown",
   "id": "10bfb0ef-f8f7-4ec5-b230-694e755bc223",
   "metadata": {},
   "source": [
    "___\n",
    "___"
   ]
  },
  {
   "cell_type": "markdown",
   "id": "de3c2d5f-01c3-44f8-b4a6-390f52de2b59",
   "metadata": {},
   "source": [
    "### true vs smeared EEC calculation"
   ]
  },
  {
   "cell_type": "code",
   "execution_count": 41,
   "id": "af7ec6b5-e2f1-4d71-8507-14f2ec5f913e",
   "metadata": {},
   "outputs": [
    {
     "data": {
      "text/plain": [
       "<matplotlib.legend.Legend at 0x7fe5e81f7e80>"
      ]
     },
     "execution_count": 41,
     "metadata": {},
     "output_type": "execute_result"
    },
    {
     "data": {
      "image/png": "[encoded data removed]",
      "text/plain": [
       "<Figure size 432x288 with 1 Axes>"
      ]
     },
     "metadata": {
      "needs_background": "light"
     },
     "output_type": "display_data"
    }
   ],
   "source": [
    "binning = np.logspace(-4, np.log10(0.4), 100)\n",
    "\n",
    "_,_,_=plt.hist(theta0_G[:,1], binning, weights=theta0_G[:,0], color='blue', alpha=0.5, label=\"MC, true\") # true\n",
    "_,_,_=plt.hist(theta0_S[:,1], binning, weights=theta0_S[:,0], color='orange', alpha=0.5, label=\"data, smeared\") # smeared\n",
    "_,_,_=plt.hist(theta0_G[:,1] * myweights[-1, 0, :], binning, weights=theta0_G[:,0] * myweights[-1, 0, :], color='black', histtype=\"step\", label=\"OmniFolded\", lw=\"2\") # omnifolded\n",
    "\n",
    "plt.xscale('log')\n",
    "plt.yscale('log')\n",
    "\n",
    "plt.xlabel(\"$R_L$\")\n",
    "plt.ylabel(\"cs\")\n",
    "plt.title(\"EEC calculation\")\n",
    "plt.legend(frameon=False, loc='upper left')"
   ]
  },
  {
   "cell_type": "code",
   "execution_count": 37,
   "id": "3ac448b5-2503-4eaf-908f-e4c81e3ece50",
   "metadata": {},
   "outputs": [
    {
     "data": {
      "text/plain": [
       "array([[1.00019574, 1.00019574, 1.00019574, ..., 1.00019574, 1.00019574,\n",
       "        1.00019574],\n",
       "       [0.99693292, 0.99693292, 0.99693292, ..., 0.99693292, 0.99693292,\n",
       "        0.99693292]])"
      ]
     },
     "execution_count": 37,
     "metadata": {},
     "output_type": "execute_result"
    }
   ],
   "source": [
    "myweights[-1]"
   ]
  },
  {
   "cell_type": "code",
   "execution_count": 38,
   "id": "b1122fc9-bfd2-4e20-a681-fc6c7f53df24",
   "metadata": {},
   "outputs": [
    {
     "data": {
      "text/plain": [
       "array([[[0.99337417, 0.99310166, 0.9923324 , ..., 0.99537534,\n",
       "         0.99546754, 0.99551678],\n",
       "        [0.98497486, 0.98497486, 0.98497486, ..., 0.98497486,\n",
       "         0.98497486, 0.98497486]],\n",
       "\n",
       "       [[1.00019574, 1.00019574, 1.00019574, ..., 1.00019574,\n",
       "         1.00019574, 1.00019574],\n",
       "        [0.99693292, 0.99693292, 0.99693292, ..., 0.99693292,\n",
       "         0.99693292, 0.99693292]]])"
      ]
     },
     "execution_count": 38,
     "metadata": {},
     "output_type": "execute_result"
    }
   ],
   "source": [
    "myweights"
   ]
  },
  {
   "cell_type": "code",
   "execution_count": 42,
   "id": "b7f3a813-97e9-4b12-b2bc-c34299474d06",
   "metadata": {},
   "outputs": [],
   "source": [
    "pass_reco = np.random.binomial(1,0.9,30)"
   ]
  },
  {
   "cell_type": "code",
   "execution_count": 43,
   "id": "65fe1c17-e4ce-4d7f-be4c-752b172540d7",
   "metadata": {},
   "outputs": [
    {
     "data": {
      "text/plain": [
       "array([1, 0, 1, 1, 1, 1, 1, 0, 1, 1, 0, 1, 1, 1, 1, 0, 1, 1, 1, 1, 1, 1,\n",
       "       1, 1, 1, 1, 0, 1, 1, 1])"
      ]
     },
     "execution_count": 43,
     "metadata": {},
     "output_type": "execute_result"
    }
   ],
   "source": [
    "pass_reco"
   ]
  }
 ],
 "metadata": {
  "kernelspec": {
   "display_name": "Python 3",
   "language": "python",
   "name": "python3"
  },
  "language_info": {
   "codemirror_mode": {
    "name": "ipython",
    "version": 3
   },
   "file_extension": ".py",
   "mimetype": "text/x-python",
   "name": "python",
   "nbconvert_exporter": "python",
   "pygments_lexer": "ipython3",
   "version": "3.6.8"
  }
 },
 "nbformat": 4,
 "nbformat_minor": 5
}
