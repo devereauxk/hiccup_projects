{
 "cells": [
  {
   "cell_type": "code",
   "execution_count": 1,
   "id": "733ba683-ce48-4968-b819-89c4993d79c5",
   "metadata": {},
   "outputs": [
    {
     "name": "stdout",
     "output_type": "stream",
     "text": [
      "['/usr/lib64/python36.zip', '/usr/lib64/python3.6', '/usr/lib64/python3.6/lib-dynload', '', '/home/kdevereaux/.local/lib/python3.6/site-packages', '/usr/local/lib64/python3.6/site-packages', '/usr/local/lib/python3.6/site-packages', '/usr/lib64/python3.6/site-packages', '/usr/lib/python3.6/site-packages', '/usr/local/lib/python3.6/site-packages/IPython/extensions', '/home/kdevereaux/.ipython']\n"
     ]
    }
   ],
   "source": [
    "import sys\n",
    "print(sys.path)"
   ]
  },
  {
   "cell_type": "code",
   "execution_count": 2,
   "id": "3eedee83-b19a-4832-af58-16be4f6176f9",
   "metadata": {},
   "outputs": [],
   "source": [
    "import numpy as np\n",
    "import pandas as pd\n",
    "import uproot as ur\n",
    "\n",
    "from keras.layers import Dense, Input\n",
    "from keras.models import Model\n",
    "\n",
    "import omnifold as of\n",
    "import os\n",
    "import tensorflow as tf\n",
    "\n",
    "from matplotlib import pyplot as plt\n",
    "from IPython.display import Image\n",
    "pd.set_option('display.max_columns', None) # to see all columns of df.head()"
   ]
  },
  {
   "cell_type": "code",
   "execution_count": 3,
   "id": "0dcb3c2f-da75-40a4-af1a-8994e86e915e",
   "metadata": {},
   "outputs": [],
   "source": [
    "#gpus = tf.config.experimental.list_physical_devices('GPU')\n",
    "#print(gpus)"
   ]
  },
  {
   "cell_type": "markdown",
   "id": "656516dd-37f6-4d4c-be99-e9bc920de36f",
   "metadata": {},
   "source": [
    "# [Omnifold Paper](https://journals.aps.org/prl/abstract/10.1103/PhysRevLett.124.182001) Background"
   ]
  },
  {
   "cell_type": "markdown",
   "id": "12f354ba-b3ec-473e-a041-d92f81727416",
   "metadata": {},
   "source": [
    "|   |   |   |\n",
    "|---|---|---|\n",
    "|Synthetic Generator-Level Sim   | $\\theta_{0,G}$  | Truth-Level Sim  |\n",
    "|Synthetic Reconstruction-Level Sim   | $\\theta_{0,S}$   | Full Reco-Level Sim  |\n",
    "|Natural Reconstruction  | $\\theta_\\mathrm{unknown,S}$  | Observed Detector Data  |\n",
    "|Natural Truth   |$\\theta_\\mathrm{unknown,G}$   | Nature  |\n"
   ]
  },
  {
   "cell_type": "markdown",
   "id": "ba8a5ee5-e7ca-4981-a80a-8ca25d0345e7",
   "metadata": {},
   "source": [
    "___\n",
    "___"
   ]
  },
  {
   "cell_type": "markdown",
   "id": "59fa5a74-76cc-4272-aef7-ea0dc5b102e1",
   "metadata": {},
   "source": [
    "# Omnifold for EEC unfolding, (energy_weight, R_L, jet_pt)"
   ]
  },
  {
   "cell_type": "markdown",
   "id": "62beeb83-d1c8-4b9d-97bd-5a576e43f91c",
   "metadata": {},
   "source": [
    "#### we assume all imported root files consist of `TTree preprocessed` consiting of three columns `energy_weight`, `R_L`, and `jet_pt`"
   ]
  },
  {
   "cell_type": "markdown",
   "id": "3cd2b453-af50-4da3-810b-561f5c92676b",
   "metadata": {},
   "source": [
    "### Define variables to unfold"
   ]
  },
  {
   "cell_type": "code",
   "execution_count": 4,
   "id": "1b230e54-813d-4f3f-9968-1cbce7d6d438",
   "metadata": {},
   "outputs": [],
   "source": [
    "obs_features = [\"obs_energy_weight\", \"obs_R_L\", \"obs_jet_pt\"]\n",
    "gen_features = [\"gen_energy_weight\", \"gen_R_L\", \"gen_jet_pt\"]\n",
    "\n",
    "labels = [\"energy weight\", \"$R_L$\", \"jet $p_T$\"]\n",
    "\n",
    "dummyval = [-9999 for i in range(3)]"
   ]
  },
  {
   "cell_type": "markdown",
   "id": "a4c7f97c-5e8e-47d0-889f-aa5635c9bc02",
   "metadata": {},
   "source": [
    "### Import \"natural reco\": ALICE measured (testing: PYTHIA8 generator-level)\n",
    "### Import \"natural truth\": ALICE truth (testing: PYTHIA8 generator-level, unused during actuall unfolding) "
   ]
  },
  {
   "cell_type": "code",
   "execution_count": 5,
   "id": "c85d8118-44e6-434e-9d3d-8084a29bc57e",
   "metadata": {},
   "outputs": [],
   "source": [
    "natural_file = \"preprocess_tr_eff.root\"\n",
    "natural_tree = ur.open(\"%s:preprocessed\"%(natural_file))\n",
    "natural_df = natural_tree.arrays(library=\"pd\") #open the TTree as a pandas data frame\n",
    "#natural_df = natural_reco_df[natural_reco_df[\"obs_hfs_pt\"] != 0] #remove empty entries"
   ]
  },
  {
   "cell_type": "markdown",
   "id": "b6f91fd0-d647-4746-bd08-6b5d9af193ab",
   "metadata": {},
   "source": [
    "### Take a quick look at the data"
   ]
  },
  {
   "cell_type": "code",
   "execution_count": 6,
   "id": "e75eefd1-fe17-4d30-9aca-23d6fba7906c",
   "metadata": {},
   "outputs": [
    {
     "data": {
      "text/html": [
       "<div>\n",
       "<style scoped>\n",
       "    .dataframe tbody tr th:only-of-type {\n",
       "        vertical-align: middle;\n",
       "    }\n",
       "\n",
       "    .dataframe tbody tr th {\n",
       "        vertical-align: top;\n",
       "    }\n",
       "\n",
       "    .dataframe thead th {\n",
       "        text-align: right;\n",
       "    }\n",
       "</style>\n",
       "<table border=\"1\" class=\"dataframe\">\n",
       "  <thead>\n",
       "    <tr style=\"text-align: right;\">\n",
       "      <th></th>\n",
       "      <th>gen_energy_weight</th>\n",
       "      <th>gen_R_L</th>\n",
       "      <th>gen_jet_pt</th>\n",
       "      <th>obs_energy_weight</th>\n",
       "      <th>obs_R_L</th>\n",
       "      <th>obs_jet_pt</th>\n",
       "      <th>obs_thrown</th>\n",
       "    </tr>\n",
       "  </thead>\n",
       "  <tbody>\n",
       "    <tr>\n",
       "      <th>count</th>\n",
       "      <td>3.400175e+06</td>\n",
       "      <td>3.400175e+06</td>\n",
       "      <td>3.400175e+06</td>\n",
       "      <td>3.400175e+06</td>\n",
       "      <td>3.400175e+06</td>\n",
       "      <td>3.400175e+06</td>\n",
       "      <td>3.400175e+06</td>\n",
       "    </tr>\n",
       "    <tr>\n",
       "      <th>mean</th>\n",
       "      <td>4.883779e-03</td>\n",
       "      <td>2.664534e-01</td>\n",
       "      <td>2.754054e+01</td>\n",
       "      <td>-6.389041e+03</td>\n",
       "      <td>-6.388955e+03</td>\n",
       "      <td>-6.379702e+03</td>\n",
       "      <td>6.389683e-01</td>\n",
       "    </tr>\n",
       "    <tr>\n",
       "      <th>std</th>\n",
       "      <td>1.265864e-02</td>\n",
       "      <td>1.573690e-01</td>\n",
       "      <td>5.300748e+00</td>\n",
       "      <td>4.802521e+03</td>\n",
       "      <td>4.802635e+03</td>\n",
       "      <td>4.814946e+03</td>\n",
       "      <td>4.802998e-01</td>\n",
       "    </tr>\n",
       "    <tr>\n",
       "      <th>min</th>\n",
       "      <td>3.259725e-10</td>\n",
       "      <td>0.000000e+00</td>\n",
       "      <td>2.000215e+01</td>\n",
       "      <td>-9.999000e+03</td>\n",
       "      <td>-9.999000e+03</td>\n",
       "      <td>-9.999000e+03</td>\n",
       "      <td>0.000000e+00</td>\n",
       "    </tr>\n",
       "    <tr>\n",
       "      <th>25%</th>\n",
       "      <td>4.176243e-04</td>\n",
       "      <td>1.504509e-01</td>\n",
       "      <td>2.303682e+01</td>\n",
       "      <td>-9.999000e+03</td>\n",
       "      <td>-9.999000e+03</td>\n",
       "      <td>-9.999000e+03</td>\n",
       "      <td>0.000000e+00</td>\n",
       "    </tr>\n",
       "    <tr>\n",
       "      <th>50%</th>\n",
       "      <td>1.468892e-03</td>\n",
       "      <td>2.592121e-01</td>\n",
       "      <td>2.660764e+01</td>\n",
       "      <td>-9.999000e+03</td>\n",
       "      <td>-9.999000e+03</td>\n",
       "      <td>-9.999000e+03</td>\n",
       "      <td>1.000000e+00</td>\n",
       "    </tr>\n",
       "    <tr>\n",
       "      <th>75%</th>\n",
       "      <td>4.612804e-03</td>\n",
       "      <td>3.726396e-01</td>\n",
       "      <td>3.130021e+01</td>\n",
       "      <td>1.325963e-03</td>\n",
       "      <td>1.578343e-01</td>\n",
       "      <td>2.294026e+01</td>\n",
       "      <td>1.000000e+00</td>\n",
       "    </tr>\n",
       "    <tr>\n",
       "      <th>max</th>\n",
       "      <td>1.000000e+00</td>\n",
       "      <td>9.641784e-01</td>\n",
       "      <td>3.999862e+01</td>\n",
       "      <td>1.000000e+00</td>\n",
       "      <td>8.808661e-01</td>\n",
       "      <td>3.989721e+01</td>\n",
       "      <td>1.000000e+00</td>\n",
       "    </tr>\n",
       "  </tbody>\n",
       "</table>\n",
       "</div>"
      ],
      "text/plain": [
       "       gen_energy_weight       gen_R_L    gen_jet_pt  obs_energy_weight  \\\n",
       "count       3.400175e+06  3.400175e+06  3.400175e+06       3.400175e+06   \n",
       "mean        4.883779e-03  2.664534e-01  2.754054e+01      -6.389041e+03   \n",
       "std         1.265864e-02  1.573690e-01  5.300748e+00       4.802521e+03   \n",
       "min         3.259725e-10  0.000000e+00  2.000215e+01      -9.999000e+03   \n",
       "25%         4.176243e-04  1.504509e-01  2.303682e+01      -9.999000e+03   \n",
       "50%         1.468892e-03  2.592121e-01  2.660764e+01      -9.999000e+03   \n",
       "75%         4.612804e-03  3.726396e-01  3.130021e+01       1.325963e-03   \n",
       "max         1.000000e+00  9.641784e-01  3.999862e+01       1.000000e+00   \n",
       "\n",
       "            obs_R_L    obs_jet_pt    obs_thrown  \n",
       "count  3.400175e+06  3.400175e+06  3.400175e+06  \n",
       "mean  -6.388955e+03 -6.379702e+03  6.389683e-01  \n",
       "std    4.802635e+03  4.814946e+03  4.802998e-01  \n",
       "min   -9.999000e+03 -9.999000e+03  0.000000e+00  \n",
       "25%   -9.999000e+03 -9.999000e+03  0.000000e+00  \n",
       "50%   -9.999000e+03 -9.999000e+03  1.000000e+00  \n",
       "75%    1.578343e-01  2.294026e+01  1.000000e+00  \n",
       "max    8.808661e-01  3.989721e+01  1.000000e+00  "
      ]
     },
     "execution_count": 6,
     "metadata": {},
     "output_type": "execute_result"
    }
   ],
   "source": [
    "natural_df.describe()"
   ]
  },
  {
   "cell_type": "code",
   "execution_count": 7,
   "id": "fed2a2ab-400c-48dd-b585-5760ba4bd8ae",
   "metadata": {},
   "outputs": [
    {
     "data": {
      "text/html": [
       "<div>\n",
       "<style scoped>\n",
       "    .dataframe tbody tr th:only-of-type {\n",
       "        vertical-align: middle;\n",
       "    }\n",
       "\n",
       "    .dataframe tbody tr th {\n",
       "        vertical-align: top;\n",
       "    }\n",
       "\n",
       "    .dataframe thead th {\n",
       "        text-align: right;\n",
       "    }\n",
       "</style>\n",
       "<table border=\"1\" class=\"dataframe\">\n",
       "  <thead>\n",
       "    <tr style=\"text-align: right;\">\n",
       "      <th></th>\n",
       "      <th>gen_energy_weight</th>\n",
       "      <th>gen_R_L</th>\n",
       "      <th>gen_jet_pt</th>\n",
       "      <th>obs_energy_weight</th>\n",
       "      <th>obs_R_L</th>\n",
       "      <th>obs_jet_pt</th>\n",
       "      <th>obs_thrown</th>\n",
       "    </tr>\n",
       "  </thead>\n",
       "  <tbody>\n",
       "    <tr>\n",
       "      <th>0</th>\n",
       "      <td>0.000023</td>\n",
       "      <td>0.000000</td>\n",
       "      <td>22.014918</td>\n",
       "      <td>-9999.0</td>\n",
       "      <td>-9999.0</td>\n",
       "      <td>-9999.0</td>\n",
       "      <td>1.0</td>\n",
       "    </tr>\n",
       "    <tr>\n",
       "      <th>1</th>\n",
       "      <td>0.000027</td>\n",
       "      <td>0.173667</td>\n",
       "      <td>22.014918</td>\n",
       "      <td>-9999.0</td>\n",
       "      <td>-9999.0</td>\n",
       "      <td>-9999.0</td>\n",
       "      <td>1.0</td>\n",
       "    </tr>\n",
       "    <tr>\n",
       "      <th>2</th>\n",
       "      <td>0.000187</td>\n",
       "      <td>0.664020</td>\n",
       "      <td>22.014918</td>\n",
       "      <td>-9999.0</td>\n",
       "      <td>-9999.0</td>\n",
       "      <td>-9999.0</td>\n",
       "      <td>1.0</td>\n",
       "    </tr>\n",
       "    <tr>\n",
       "      <th>3</th>\n",
       "      <td>0.000082</td>\n",
       "      <td>0.140139</td>\n",
       "      <td>22.014918</td>\n",
       "      <td>-9999.0</td>\n",
       "      <td>-9999.0</td>\n",
       "      <td>-9999.0</td>\n",
       "      <td>1.0</td>\n",
       "    </tr>\n",
       "    <tr>\n",
       "      <th>4</th>\n",
       "      <td>0.000031</td>\n",
       "      <td>0.518340</td>\n",
       "      <td>22.014918</td>\n",
       "      <td>-9999.0</td>\n",
       "      <td>-9999.0</td>\n",
       "      <td>-9999.0</td>\n",
       "      <td>1.0</td>\n",
       "    </tr>\n",
       "    <tr>\n",
       "      <th>5</th>\n",
       "      <td>0.000942</td>\n",
       "      <td>0.562282</td>\n",
       "      <td>22.014918</td>\n",
       "      <td>-9999.0</td>\n",
       "      <td>-9999.0</td>\n",
       "      <td>-9999.0</td>\n",
       "      <td>1.0</td>\n",
       "    </tr>\n",
       "    <tr>\n",
       "      <th>6</th>\n",
       "      <td>0.000179</td>\n",
       "      <td>0.123040</td>\n",
       "      <td>22.014918</td>\n",
       "      <td>-9999.0</td>\n",
       "      <td>-9999.0</td>\n",
       "      <td>-9999.0</td>\n",
       "      <td>1.0</td>\n",
       "    </tr>\n",
       "    <tr>\n",
       "      <th>7</th>\n",
       "      <td>0.000094</td>\n",
       "      <td>0.533048</td>\n",
       "      <td>22.014918</td>\n",
       "      <td>-9999.0</td>\n",
       "      <td>-9999.0</td>\n",
       "      <td>-9999.0</td>\n",
       "      <td>1.0</td>\n",
       "    </tr>\n",
       "    <tr>\n",
       "      <th>8</th>\n",
       "      <td>0.000392</td>\n",
       "      <td>0.580490</td>\n",
       "      <td>22.014918</td>\n",
       "      <td>-9999.0</td>\n",
       "      <td>-9999.0</td>\n",
       "      <td>-9999.0</td>\n",
       "      <td>1.0</td>\n",
       "    </tr>\n",
       "    <tr>\n",
       "      <th>9</th>\n",
       "      <td>0.000183</td>\n",
       "      <td>0.492153</td>\n",
       "      <td>22.014918</td>\n",
       "      <td>-9999.0</td>\n",
       "      <td>-9999.0</td>\n",
       "      <td>-9999.0</td>\n",
       "      <td>1.0</td>\n",
       "    </tr>\n",
       "  </tbody>\n",
       "</table>\n",
       "</div>"
      ],
      "text/plain": [
       "   gen_energy_weight   gen_R_L  gen_jet_pt  obs_energy_weight  obs_R_L  \\\n",
       "0           0.000023  0.000000   22.014918            -9999.0  -9999.0   \n",
       "1           0.000027  0.173667   22.014918            -9999.0  -9999.0   \n",
       "2           0.000187  0.664020   22.014918            -9999.0  -9999.0   \n",
       "3           0.000082  0.140139   22.014918            -9999.0  -9999.0   \n",
       "4           0.000031  0.518340   22.014918            -9999.0  -9999.0   \n",
       "5           0.000942  0.562282   22.014918            -9999.0  -9999.0   \n",
       "6           0.000179  0.123040   22.014918            -9999.0  -9999.0   \n",
       "7           0.000094  0.533048   22.014918            -9999.0  -9999.0   \n",
       "8           0.000392  0.580490   22.014918            -9999.0  -9999.0   \n",
       "9           0.000183  0.492153   22.014918            -9999.0  -9999.0   \n",
       "\n",
       "   obs_jet_pt  obs_thrown  \n",
       "0     -9999.0         1.0  \n",
       "1     -9999.0         1.0  \n",
       "2     -9999.0         1.0  \n",
       "3     -9999.0         1.0  \n",
       "4     -9999.0         1.0  \n",
       "5     -9999.0         1.0  \n",
       "6     -9999.0         1.0  \n",
       "7     -9999.0         1.0  \n",
       "8     -9999.0         1.0  \n",
       "9     -9999.0         1.0  "
      ]
     },
     "execution_count": 7,
     "metadata": {},
     "output_type": "execute_result"
    }
   ],
   "source": [
    "natural_df.head(10)"
   ]
  },
  {
   "cell_type": "code",
   "execution_count": 8,
   "id": "a3181e94-7258-4a87-beb4-622c2b6d4520",
   "metadata": {},
   "outputs": [
    {
     "data": {
      "image/png": "[encoded data removed]",
      "text/plain": [
       "<Figure size 432x288 with 1 Axes>"
      ]
     },
     "metadata": {
      "needs_background": "light"
     },
     "output_type": "display_data"
    },
    {
     "data": {
      "image/png": "[encoded data removed]",
      "text/plain": [
       "<Figure size 432x288 with 1 Axes>"
      ]
     },
     "metadata": {
      "needs_background": "light"
     },
     "output_type": "display_data"
    }
   ],
   "source": [
    "# particle pt relative error\n",
    "part_pt_tree = ur.open(\"%s:particle_pt\"%(natural_file))\n",
    "part_pt_df = part_pt_tree.arrays(library=\"pd\")\n",
    "part_pt_df = part_pt_df[part_pt_df['obs_pt'] != -9999]\n",
    "part_pt = part_pt_df['gen_pt']\n",
    "part_pt_smeared = part_pt_df['obs_pt']\n",
    "\n",
    "binning = np.linspace(0, 4, 100)\n",
    "plt.hist(part_pt, binning, alpha=0.5, label='true')\n",
    "plt.hist(part_pt_smeared, binning, alpha=0.5, label='smeared')\n",
    "plt.legend()\n",
    "plt.xlabel('particle pt')\n",
    "plt.show()\n",
    "\n",
    "binning = np.linspace(-0.05, 0.05, 100)\n",
    "plt.hist( (part_pt_smeared - part_pt) / part_pt, binning)\n",
    "plt.title('particle pt relative error')\n",
    "plt.show()"
   ]
  },
  {
   "cell_type": "markdown",
   "id": "4861f231-5cb2-46bb-83f3-e624d5f91330",
   "metadata": {},
   "source": [
    "### Jet pt resolution"
   ]
  },
  {
   "cell_type": "code",
   "execution_count": 9,
   "id": "c02a6163-4bf4-4898-ab57-2106bd1fab02",
   "metadata": {},
   "outputs": [
    {
     "data": {
      "image/png": "[encoded data removed]",
      "text/plain": [
       "<Figure size 432x288 with 1 Axes>"
      ]
     },
     "metadata": {
      "needs_background": "light"
     },
     "output_type": "display_data"
    },
    {
     "data": {
      "image/png": "[encoded data removed]",
      "text/plain": [
       "<Figure size 432x288 with 1 Axes>"
      ]
     },
     "metadata": {
      "needs_background": "light"
     },
     "output_type": "display_data"
    }
   ],
   "source": [
    "# jet pt relative error\n",
    "jet_pt_tree = ur.open(\"%s:jet_pt\"%(natural_file))\n",
    "jet_pt_df = jet_pt_tree.arrays(library=\"pd\")\n",
    "jet_pt = jet_pt_df['gen_pt']\n",
    "jet_pt_smeared = jet_pt_df['obs_pt']\n",
    "\n",
    "binning = np.linspace(20, 40, 100)\n",
    "plt.hist(jet_pt, binning, alpha=0.5, label='true')\n",
    "plt.hist(jet_pt_smeared, binning, alpha=0.5, label='smeared')\n",
    "plt.legend()\n",
    "plt.xlabel('jet pt')\n",
    "plt.show()\n",
    "\n",
    "binning = np.linspace(-0.2, 0.2, 100)\n",
    "plt.hist( (jet_pt_smeared - jet_pt) / jet_pt, binning)\n",
    "plt.title('jet pt relative error')\n",
    "plt.show()"
   ]
  },
  {
   "cell_type": "markdown",
   "id": "8a0e6803-a1a4-4c5f-b6e1-8d57751b08f7",
   "metadata": {},
   "source": [
    "### Import \"synthetic simulation\", both generated and reconstructed level."
   ]
  },
  {
   "cell_type": "code",
   "execution_count": 10,
   "id": "3cb960ab-40b9-4551-ba69-c37bed5c25cd",
   "metadata": {
    "tags": []
   },
   "outputs": [],
   "source": [
    "synthetic_file = \"preprocess_tr_eff.root\"\n",
    "synth_tree = ur.open(\"%s:preprocessed\"%(synthetic_file))\n",
    "synth_df = synth_tree.arrays(library=\"pd\")\n",
    "#synth_df = synth_df[synth_df[\"obs_hfs_pt\"] != 0]"
   ]
  },
  {
   "cell_type": "code",
   "execution_count": 11,
   "id": "50564150-375a-45e9-8454-cf4d4c23b422",
   "metadata": {},
   "outputs": [
    {
     "data": {
      "text/html": [
       "<div>\n",
       "<style scoped>\n",
       "    .dataframe tbody tr th:only-of-type {\n",
       "        vertical-align: middle;\n",
       "    }\n",
       "\n",
       "    .dataframe tbody tr th {\n",
       "        vertical-align: top;\n",
       "    }\n",
       "\n",
       "    .dataframe thead th {\n",
       "        text-align: right;\n",
       "    }\n",
       "</style>\n",
       "<table border=\"1\" class=\"dataframe\">\n",
       "  <thead>\n",
       "    <tr style=\"text-align: right;\">\n",
       "      <th></th>\n",
       "      <th>gen_energy_weight</th>\n",
       "      <th>gen_R_L</th>\n",
       "      <th>gen_jet_pt</th>\n",
       "      <th>obs_energy_weight</th>\n",
       "      <th>obs_R_L</th>\n",
       "      <th>obs_jet_pt</th>\n",
       "      <th>obs_thrown</th>\n",
       "    </tr>\n",
       "  </thead>\n",
       "  <tbody>\n",
       "    <tr>\n",
       "      <th>3400165</th>\n",
       "      <td>0.002796</td>\n",
       "      <td>0.149768</td>\n",
       "      <td>31.200325</td>\n",
       "      <td>-9999.000000</td>\n",
       "      <td>-9999.000000</td>\n",
       "      <td>-9999.000000</td>\n",
       "      <td>1.0</td>\n",
       "    </tr>\n",
       "    <tr>\n",
       "      <th>3400166</th>\n",
       "      <td>0.012592</td>\n",
       "      <td>0.146687</td>\n",
       "      <td>31.200325</td>\n",
       "      <td>0.024495</td>\n",
       "      <td>0.152934</td>\n",
       "      <td>22.235663</td>\n",
       "      <td>0.0</td>\n",
       "    </tr>\n",
       "    <tr>\n",
       "      <th>3400167</th>\n",
       "      <td>0.007912</td>\n",
       "      <td>0.136102</td>\n",
       "      <td>31.200325</td>\n",
       "      <td>0.015866</td>\n",
       "      <td>0.130208</td>\n",
       "      <td>22.235663</td>\n",
       "      <td>0.0</td>\n",
       "    </tr>\n",
       "    <tr>\n",
       "      <th>3400168</th>\n",
       "      <td>0.001355</td>\n",
       "      <td>0.115010</td>\n",
       "      <td>31.200325</td>\n",
       "      <td>-9999.000000</td>\n",
       "      <td>-9999.000000</td>\n",
       "      <td>-9999.000000</td>\n",
       "      <td>1.0</td>\n",
       "    </tr>\n",
       "    <tr>\n",
       "      <th>3400169</th>\n",
       "      <td>0.012661</td>\n",
       "      <td>0.078984</td>\n",
       "      <td>31.200325</td>\n",
       "      <td>0.025349</td>\n",
       "      <td>0.080094</td>\n",
       "      <td>22.235663</td>\n",
       "      <td>0.0</td>\n",
       "    </tr>\n",
       "    <tr>\n",
       "      <th>3400170</th>\n",
       "      <td>0.001590</td>\n",
       "      <td>0.134997</td>\n",
       "      <td>31.200325</td>\n",
       "      <td>0.003144</td>\n",
       "      <td>0.130856</td>\n",
       "      <td>22.235663</td>\n",
       "      <td>0.0</td>\n",
       "    </tr>\n",
       "    <tr>\n",
       "      <th>3400171</th>\n",
       "      <td>0.002385</td>\n",
       "      <td>0.087659</td>\n",
       "      <td>31.200325</td>\n",
       "      <td>-9999.000000</td>\n",
       "      <td>-9999.000000</td>\n",
       "      <td>-9999.000000</td>\n",
       "      <td>1.0</td>\n",
       "    </tr>\n",
       "    <tr>\n",
       "      <th>3400172</th>\n",
       "      <td>0.017098</td>\n",
       "      <td>0.090355</td>\n",
       "      <td>31.200325</td>\n",
       "      <td>0.034155</td>\n",
       "      <td>0.092468</td>\n",
       "      <td>22.235663</td>\n",
       "      <td>0.0</td>\n",
       "    </tr>\n",
       "    <tr>\n",
       "      <th>3400173</th>\n",
       "      <td>0.044636</td>\n",
       "      <td>0.049273</td>\n",
       "      <td>31.200325</td>\n",
       "      <td>-9999.000000</td>\n",
       "      <td>-9999.000000</td>\n",
       "      <td>-9999.000000</td>\n",
       "      <td>1.0</td>\n",
       "    </tr>\n",
       "    <tr>\n",
       "      <th>3400174</th>\n",
       "      <td>0.041894</td>\n",
       "      <td>0.000000</td>\n",
       "      <td>31.200325</td>\n",
       "      <td>0.083488</td>\n",
       "      <td>0.000000</td>\n",
       "      <td>22.235663</td>\n",
       "      <td>0.0</td>\n",
       "    </tr>\n",
       "  </tbody>\n",
       "</table>\n",
       "</div>"
      ],
      "text/plain": [
       "         gen_energy_weight   gen_R_L  gen_jet_pt  obs_energy_weight  \\\n",
       "3400165           0.002796  0.149768   31.200325       -9999.000000   \n",
       "3400166           0.012592  0.146687   31.200325           0.024495   \n",
       "3400167           0.007912  0.136102   31.200325           0.015866   \n",
       "3400168           0.001355  0.115010   31.200325       -9999.000000   \n",
       "3400169           0.012661  0.078984   31.200325           0.025349   \n",
       "3400170           0.001590  0.134997   31.200325           0.003144   \n",
       "3400171           0.002385  0.087659   31.200325       -9999.000000   \n",
       "3400172           0.017098  0.090355   31.200325           0.034155   \n",
       "3400173           0.044636  0.049273   31.200325       -9999.000000   \n",
       "3400174           0.041894  0.000000   31.200325           0.083488   \n",
       "\n",
       "             obs_R_L   obs_jet_pt  obs_thrown  \n",
       "3400165 -9999.000000 -9999.000000         1.0  \n",
       "3400166     0.152934    22.235663         0.0  \n",
       "3400167     0.130208    22.235663         0.0  \n",
       "3400168 -9999.000000 -9999.000000         1.0  \n",
       "3400169     0.080094    22.235663         0.0  \n",
       "3400170     0.130856    22.235663         0.0  \n",
       "3400171 -9999.000000 -9999.000000         1.0  \n",
       "3400172     0.092468    22.235663         0.0  \n",
       "3400173 -9999.000000 -9999.000000         1.0  \n",
       "3400174     0.000000    22.235663         0.0  "
      ]
     },
     "execution_count": 11,
     "metadata": {},
     "output_type": "execute_result"
    }
   ],
   "source": [
    "synth_df.tail(10) #look at some entries"
   ]
  },
  {
   "cell_type": "markdown",
   "id": "e45d03b3-42c8-4140-87f5-6128d0beae7a",
   "metadata": {},
   "source": [
    "### define 4 main datasets"
   ]
  },
  {
   "cell_type": "code",
   "execution_count": 12,
   "id": "61e2d71c-b0ba-49b0-b087-7575dba1fb53",
   "metadata": {},
   "outputs": [],
   "source": [
    "theta_unknown_S = natural_df[obs_features].to_numpy() #Reconstructed Data\n",
    "theta_unknown_G = natural_df[gen_features].to_numpy() #Nature, which unfolded data approaches\n",
    "\n",
    "theta0_S = synth_df[obs_features].to_numpy() #Simulated, synthetic reco-level\n",
    "theta0_G = synth_df[gen_features].to_numpy() #Generated, synthetic truth-level\n",
    "\n",
    "obs_thrown = synth_df['obs_thrown'].to_numpy() # binary if pair DOESN'T pass efficiency cut"
   ]
  },
  {
   "cell_type": "markdown",
   "id": "9d3f392e-b84d-47a3-bece-508bca2f4f5a",
   "metadata": {},
   "source": [
    "### Ensure the samples have the same number of entries"
   ]
  },
  {
   "cell_type": "code",
   "execution_count": 13,
   "id": "6f180e2a-2411-4725-a7d7-df946242fb54",
   "metadata": {},
   "outputs": [],
   "source": [
    "N_Events = min(np.shape(theta0_S)[0],np.shape(theta_unknown_S)[0])-1\n",
    "\n",
    "# Synthetic\n",
    "theta0_S = theta0_S[:N_Events]\n",
    "theta0_G = theta0_G[:N_Events]\n",
    "\n",
    "theta0 = np.stack([theta0_S, theta0_G], axis=1)\n",
    "\n",
    "# Natural\n",
    "theta_unknown_S = theta_unknown_S[:N_Events]\n",
    "theta_unknown_G = theta_unknown_G[:N_Events]\n",
    "\n",
    "obs_thrown = obs_thrown[:N_Events]"
   ]
  },
  {
   "cell_type": "code",
   "execution_count": 14,
   "id": "fb429ef3-f0fe-4fa7-b9c4-9f4e7564913a",
   "metadata": {},
   "outputs": [
    {
     "data": {
      "image/png": "[encoded data removed]",
      "text/plain": [
       "<Figure size 1080x288 with 3 Axes>"
      ]
     },
     "metadata": {
      "needs_background": "light"
     },
     "output_type": "display_data"
    }
   ],
   "source": [
    "N = len(obs_features)\n",
    "\n",
    "binning = [np.logspace(-5,0,100),np.logspace(-4,0,100),np.linspace(20,40,100)]\n",
    "\n",
    "fig, axes = plt.subplots(1, 3, figsize=(15,4))\n",
    "\n",
    "obs_i = 0\n",
    "\n",
    "for i,ax in enumerate(axes.ravel()):\n",
    "    if (i >= N): break\n",
    "    _,_,_=ax.hist(theta0_G[:,i][obs_thrown!=1],binning[i],color='blue',alpha=0.5,label=\"MC, true\")\n",
    "    _,_,_=ax.hist(theta0_S[:,i][obs_thrown!=1],binning[i],histtype=\"step\",color='black',ls=':',label=\"MC, reco\")\n",
    "    _,_,_=ax.hist(theta_unknown_G[:,i][obs_thrown!=1],binning[i],color='orange',alpha=0.5,label=\"Data, true\")\n",
    "    _,_,_=ax.hist(theta_unknown_S[:,i][obs_thrown!=1],binning[i],histtype=\"step\",color='black',label=\"Data, reco\")\n",
    "\n",
    "    ax.set_title(labels[i])\n",
    "    ax.set_xlabel(labels[i])\n",
    "    ax.set_ylabel(\"Events\")\n",
    "    ax.legend(frameon=False)\n",
    "    \n",
    "    if obs_i in [0, 1]:\n",
    "        ax.set_xscale('log')\n",
    "        ax.set_yscale('log')\n",
    "        \n",
    "    obs_i += 1\n",
    "    \n",
    "fig.tight_layout()"
   ]
  },
  {
   "cell_type": "code",
   "execution_count": 15,
   "id": "ce3a8d57-5640-487a-a722-3efe79f18540",
   "metadata": {},
   "outputs": [],
   "source": [
    "inputs = Input((len(obs_features), ))\n",
    "hidden_layer_1 = Dense(50, activation='relu')(inputs)\n",
    "hidden_layer_2 = Dense(50, activation='relu')(hidden_layer_1)\n",
    "hidden_layer_3 = Dense(50, activation='relu')(hidden_layer_2)\n",
    "outputs = Dense(1, activation='sigmoid')(hidden_layer_3)\n",
    "model_dis = Model(inputs=inputs, outputs=outputs)"
   ]
  },
  {
   "cell_type": "code",
   "execution_count": 20,
   "id": "49c36d4b-1790-419e-a276-f66a59dd6504",
   "metadata": {},
   "outputs": [
    {
     "name": "stdout",
     "output_type": "stream",
     "text": [
      "(3400174, 3)\n",
      "(3400174, 3)\n",
      "(3400174, 3)\n",
      "[[2.29056581e-05 0.00000000e+00 2.20149176e+01]\n",
      " [2.69241980e-05 1.73667071e-01 2.20149176e+01]\n",
      " [1.87007673e-04 6.64019675e-01 2.20149176e+01]\n",
      " ...\n",
      " [1.35526124e-03 1.15009940e-01 3.12003245e+01]\n",
      " [2.38519049e-03 8.76589961e-02 3.12003245e+01]\n",
      " [4.46358952e-02 4.92727065e-02 3.12003245e+01]]\n",
      "(2172604, 3)\n"
     ]
    }
   ],
   "source": [
    "print(theta0_G.shape)\n",
    "print(theta0_S.shape)\n",
    "print(theta_unknown_S.shape)\n",
    "\n",
    "print(theta0_G[theta0_S[:,0]==-9999])\n",
    "print(theta0_G[theta0_S[:,0]==-9999].shape)"
   ]
  },
  {
   "cell_type": "code",
   "execution_count": null,
   "id": "2538e0db-feb5-45c8-97b4-1f974ab885d1",
   "metadata": {
    "scrolled": true,
    "tags": []
   },
   "outputs": [
    {
     "name": "stdout",
     "output_type": "stream",
     "text": [
      "\n",
      "ITERATION: 1\n",
      "\n",
      "STEP 1\n",
      "\n",
      "runs now\n",
      "[[2.35466026e-05 2.65095121e-01 2.81622315e+01]\n",
      " [1.02254192e-02 1.34083059e-01 3.01196236e+01]\n",
      " [1.91458727e-02 2.64405850e-01 2.25236841e+01]\n",
      " ...\n",
      " [2.93048252e-05 1.67565574e-01 2.84436850e+01]\n",
      " [1.95109587e-03 4.79766939e-01 2.95073615e+01]\n",
      " [1.99004789e-03 2.03169941e-01 2.28766395e+01]]\n",
      "[0. 0. 0. ... 0. 0. 1.]\n",
      "[1. 1. 1. ... 1. 1. 1.]\n"
     ]
    }
   ],
   "source": [
    "N_Iterations = 2\n",
    "myweights = of.omnifold_tr_eff(theta0,theta_unknown_S,N_Iterations,model_dis,dummyval=-9999)"
   ]
  },
  {
   "cell_type": "code",
   "execution_count": null,
   "id": "bfe66aad-d784-490f-aba7-bf38d7857163",
   "metadata": {
    "tags": []
   },
   "outputs": [],
   "source": [
    "for iteration in range(N_Iterations):\n",
    "    fig, axes = plt.subplots(1, 3, figsize=(15,4))\n",
    "\n",
    "    obs_i = 0\n",
    "\n",
    "    for i,ax in enumerate(axes.ravel()):\n",
    "        if (i >= N): break\n",
    "        _,_,_=ax.hist(theta0_G[:,i],binning[i],color='blue',alpha=0.5,label=\"MC, true\")\n",
    "        _,_,_=ax.hist(theta_unknown_G[:,i],binning[i],color='orange',alpha=0.5,label=\"Data, true\")\n",
    "        _,_,_=ax.hist(theta0_G[:,i],weights=myweights[iteration, 0, :],bins=binning[i],color='black',histtype=\"step\",label=\"OmniFolded\",lw=\"2\")\n",
    "\n",
    "        ax.set_title(labels[i])\n",
    "        ax.set_xlabel(labels[i])\n",
    "        ax.set_ylabel(\"Events\")\n",
    "        ax.legend(frameon=False)\n",
    "\n",
    "        if obs_i in [0, 1]:\n",
    "            ax.set_xscale('log')\n",
    "            ax.set_yscale('log')\n",
    "\n",
    "        obs_i += 1\n",
    "    \n",
    "    fig.tight_layout()"
   ]
  },
  {
   "cell_type": "markdown",
   "id": "10bfb0ef-f8f7-4ec5-b230-694e755bc223",
   "metadata": {},
   "source": [
    "___\n",
    "___"
   ]
  },
  {
   "cell_type": "markdown",
   "id": "de3c2d5f-01c3-44f8-b4a6-390f52de2b59",
   "metadata": {},
   "source": [
    "### true vs smeared EEC calculation"
   ]
  },
  {
   "cell_type": "code",
   "execution_count": null,
   "id": "af7ec6b5-e2f1-4d71-8507-14f2ec5f913e",
   "metadata": {},
   "outputs": [],
   "source": [
    "binning = np.logspace(-4, np.log10(0.4), 100)\n",
    "\n",
    "_,_,_=plt.hist(theta0_G[:,1], binning, weights=theta0_G[:,0], color='blue', alpha=0.5, label=\"MC, true\") # true\n",
    "_,_,_=plt.hist(theta0_S[:,1], binning, weights=theta0_S[:,0], color='orange', alpha=0.5, label=\"data, smeared\") # smeared\n",
    "_,_,_=plt.hist(theta0_G[:,1] * myweights[-1, 0, :], binning, weights=theta0_G[:,0] * myweights[-1, 0, :], color='black', histtype=\"step\", label=\"OmniFolded\", lw=\"2\") # omnifolded\n",
    "\n",
    "plt.xscale('log')\n",
    "plt.yscale('log')\n",
    "\n",
    "plt.xlabel(\"$R_L$\")\n",
    "plt.ylabel(\"cs\")\n",
    "plt.title(\"EEC calculation\")\n",
    "plt.legend(frameon=False, loc='upper left')"
   ]
  },
  {
   "cell_type": "code",
   "execution_count": null,
   "id": "3ac448b5-2503-4eaf-908f-e4c81e3ece50",
   "metadata": {},
   "outputs": [],
   "source": [
    "myweights[-1]"
   ]
  },
  {
   "cell_type": "code",
   "execution_count": null,
   "id": "b1122fc9-bfd2-4e20-a681-fc6c7f53df24",
   "metadata": {},
   "outputs": [],
   "source": [
    "myweights"
   ]
  },
  {
   "cell_type": "code",
   "execution_count": null,
   "id": "b7f3a813-97e9-4b12-b2bc-c34299474d06",
   "metadata": {},
   "outputs": [],
   "source": [
    "pass_reco = np.random.binomial(1,0.9,30)"
   ]
  },
  {
   "cell_type": "code",
   "execution_count": null,
   "id": "65fe1c17-e4ce-4d7f-be4c-752b172540d7",
   "metadata": {},
   "outputs": [],
   "source": [
    "pass_reco"
   ]
  }
 ],
 "metadata": {
  "kernelspec": {
   "display_name": "NERSC Python",
   "language": "python",
   "name": "python3"
  },
  "language_info": {
   "codemirror_mode": {
    "name": "ipython",
    "version": 3
   },
   "file_extension": ".py",
   "mimetype": "text/x-python",
   "name": "python",
   "nbconvert_exporter": "python",
   "pygments_lexer": "ipython3",
   "version": "3.9.7"
  }
 },
 "nbformat": 4,
 "nbformat_minor": 5
}
