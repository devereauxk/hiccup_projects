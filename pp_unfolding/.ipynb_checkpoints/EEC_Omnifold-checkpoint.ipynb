{
 "cells": [
  {
   "cell_type": "code",
   "execution_count": 2,
   "id": "3eedee83-b19a-4832-af58-16be4f6176f9",
   "metadata": {},
   "outputs": [
    {
     "name": "stdout",
     "output_type": "stream",
     "text": [
      "['/global/u1/k/kdevero/hiccup_projects/pp_unfolding', '/global/common/software/nersc/pm-2022q4/sw/tensorflow/2.9.0/lib/python39.zip', '/global/common/software/nersc/pm-2022q4/sw/tensorflow/2.9.0/lib/python3.9', '/global/common/software/nersc/pm-2022q4/sw/tensorflow/2.9.0/lib/python3.9/lib-dynload', '', '/global/common/software/nersc/pm-2022q4/sw/tensorflow/2.9.0/lib/python3.9/site-packages']\n"
     ]
    }
   ],
   "source": [
    "import sys\n",
    "print(sys.path)\n",
    "\n",
    "import numpy as np\n",
    "import pandas as pd\n",
    "#import uproot as ur\n",
    "\n",
    "from keras.layers import Dense, Input\n",
    "from keras.models import Model\n",
    "\n",
    "import omnifold as of\n",
    "import os\n",
    "import tensorflow as tf\n",
    "\n",
    "from matplotlib import pyplot as plt\n",
    "from IPython.display import Image\n",
    "pd.set_option('display.max_columns', None) # to see all columns of df.head()"
   ]
  },
  {
   "cell_type": "code",
   "execution_count": 3,
   "id": "0dcb3c2f-da75-40a4-af1a-8994e86e915e",
   "metadata": {},
   "outputs": [
    {
     "name": "stdout",
     "output_type": "stream",
     "text": [
      "[]\n",
      "True\n"
     ]
    },
    {
     "name": "stderr",
     "output_type": "stream",
     "text": [
      "2023-06-30 06:08:37.405645: W tensorflow/stream_executor/platform/default/dso_loader.cc:64] Could not load dynamic library 'libcudnn.so.8'; dlerror: libcudnn.so.8: cannot open shared object file: No such file or directory; LD_LIBRARY_PATH: /opt/nvidia/hpc_sdk/Linux_x86_64/22.7/math_libs/11.7/lib64:/opt/nvidia/hpc_sdk/Linux_x86_64/22.7/cuda/11.7/extras/CUPTI/lib64:/opt/nvidia/hpc_sdk/Linux_x86_64/22.7/cuda/11.7/extras/Debugger/lib64:/opt/nvidia/hpc_sdk/Linux_x86_64/22.7/cuda/11.7/nvvm/lib64:/opt/nvidia/hpc_sdk/Linux_x86_64/22.7/cuda/11.7/lib64:/opt/cray/pe/papi/7.0.0.1/lib64:/opt/cray/pe/gcc/11.2.0/snos/lib64:/opt/cray/libfabric/1.15.2.0/lib64\n",
      "2023-06-30 06:08:37.405684: W tensorflow/core/common_runtime/gpu/gpu_device.cc:1850] Cannot dlopen some GPU libraries. Please make sure the missing libraries mentioned above are installed properly if you would like to use GPU. Follow the guide at https://www.tensorflow.org/install/gpu for how to download and setup the required libraries for your platform.\n",
      "Skipping registering GPU devices...\n"
     ]
    }
   ],
   "source": [
    "gpus = tf.config.experimental.list_physical_devices('GPU')\n",
    "print(gpus)\n",
    "print(tf.test.is_built_with_cuda())"
   ]
  },
  {
   "cell_type": "markdown",
   "id": "ba8a5ee5-e7ca-4981-a80a-8ca25d0345e7",
   "metadata": {},
   "source": [
    "___\n",
    "___"
   ]
  },
  {
   "cell_type": "markdown",
   "id": "12f354ba-b3ec-473e-a041-d92f81727416",
   "metadata": {},
   "source": [
    "|   |   |   |\n",
    "|---|---|---|\n",
    "|Synthetic Generator-Level Sim   | $\\theta_{0,G}$  | Truth-Level Sim  |\n",
    "|Synthetic Reconstruction-Level Sim   | $\\theta_{0,S}$   | Full Reco-Level Sim  |\n",
    "|Natural Reconstruction  | $\\theta_\\mathrm{unknown,S}$  | Observed Detector Data  |\n",
    "|Natural Truth   |$\\theta_\\mathrm{unknown,G}$   | Nature  |\n"
   ]
  },
  {
   "cell_type": "markdown",
   "id": "59fa5a74-76cc-4272-aef7-ea0dc5b102e1",
   "metadata": {},
   "source": [
    "# Omnifold for EEC unfolding, (energy_weight, R_L, jet_pt)"
   ]
  },
  {
   "cell_type": "markdown",
   "id": "62beeb83-d1c8-4b9d-97bd-5a576e43f91c",
   "metadata": {},
   "source": [
    "#### we assume all imported root files consist of `TTree preprocessed` consiting of three columns `energy_weight`, `R_L`, and `jet_pt`"
   ]
  },
  {
   "cell_type": "markdown",
   "id": "3cd2b453-af50-4da3-810b-561f5c92676b",
   "metadata": {},
   "source": [
    "### Define variables to unfold"
   ]
  },
  {
   "cell_type": "code",
   "execution_count": null,
   "id": "1b230e54-813d-4f3f-9968-1cbce7d6d438",
   "metadata": {},
   "outputs": [],
   "source": [
    "obs_features = [\"obs_energy_weight\", \"obs_R_L\", \"obs_jet_pt\"]\n",
    "gen_features = [\"gen_energy_weight\", \"gen_R_L\", \"gen_jet_pt\"]\n",
    "\n",
    "labels = [\"energy weight\", \"$R_L$\", \"jet $p_T$\"]\n",
    "\n",
    "dummyval = [-9999 for i in range(3)]"
   ]
  },
  {
   "cell_type": "markdown",
   "id": "a4c7f97c-5e8e-47d0-889f-aa5635c9bc02",
   "metadata": {},
   "source": [
    "### Import \"natural reco\": ALICE measured (testing: PYTHIA8 generator-level)\n",
    "### Import \"natural truth\": ALICE truth (testing: PYTHIA8 generator-level, unused during actuall unfolding) "
   ]
  },
  {
   "cell_type": "code",
   "execution_count": null,
   "id": "c85d8118-44e6-434e-9d3d-8084a29bc57e",
   "metadata": {},
   "outputs": [],
   "source": [
    "natural_file = \"preprocess_tr_eff.root\"\n",
    "natural_tree = ur.open(\"%s:preprocessed\"%(natural_file))\n",
    "natural_df = natural_tree.arrays(library=\"pd\") #open the TTree as a pandas data frame\n",
    "#natural_df = natural_reco_df[natural_reco_df[\"obs_hfs_pt\"] != 0] #remove empty entries"
   ]
  },
  {
   "cell_type": "markdown",
   "id": "b6f91fd0-d647-4746-bd08-6b5d9af193ab",
   "metadata": {},
   "source": [
    "### Take a quick look at the data"
   ]
  },
  {
   "cell_type": "code",
   "execution_count": null,
   "id": "e75eefd1-fe17-4d30-9aca-23d6fba7906c",
   "metadata": {},
   "outputs": [],
   "source": [
    "natural_df.describe()"
   ]
  },
  {
   "cell_type": "code",
   "execution_count": null,
   "id": "fed2a2ab-400c-48dd-b585-5760ba4bd8ae",
   "metadata": {},
   "outputs": [],
   "source": [
    "natural_df.head(10)"
   ]
  },
  {
   "cell_type": "code",
   "execution_count": null,
   "id": "a3181e94-7258-4a87-beb4-622c2b6d4520",
   "metadata": {},
   "outputs": [],
   "source": [
    "# particle pt relative error\n",
    "part_pt_tree = ur.open(\"%s:particle_pt\"%(natural_file))\n",
    "part_pt_df = part_pt_tree.arrays(library=\"pd\")\n",
    "#part_pt_df = part_pt_df[part_pt_df['obs_pt'] != -9999]\n",
    "part_pt = part_pt_df['gen_pt']\n",
    "part_pt_smeared = part_pt_df['obs_pt']\n",
    "\n",
    "binning = np.linspace(0, 4, 100)\n",
    "plt.hist(part_pt, binning, alpha=0.5, label='true')\n",
    "plt.hist(part_pt_smeared, binning, alpha=0.5, label='smeared')\n",
    "plt.legend()\n",
    "plt.xlabel('particle pt')\n",
    "plt.show()\n",
    "\n",
    "binning = np.linspace(-0.05, 0.05, 100)\n",
    "plt.hist( (part_pt_smeared - part_pt) / part_pt, binning)\n",
    "plt.title('particle pt relative error')\n",
    "plt.show()"
   ]
  },
  {
   "cell_type": "markdown",
   "id": "4861f231-5cb2-46bb-83f3-e624d5f91330",
   "metadata": {},
   "source": [
    "### Jet pt resolution"
   ]
  },
  {
   "cell_type": "code",
   "execution_count": null,
   "id": "c02a6163-4bf4-4898-ab57-2106bd1fab02",
   "metadata": {},
   "outputs": [],
   "source": [
    "# jet pt relative error\n",
    "jet_pt_tree = ur.open(\"%s:jet_pt\"%(natural_file))\n",
    "jet_pt_df = jet_pt_tree.arrays(library=\"pd\")\n",
    "jet_pt = jet_pt_df['gen_pt']\n",
    "jet_pt_smeared = jet_pt_df['obs_pt']\n",
    "\n",
    "binning = np.linspace(20, 40, 100)\n",
    "plt.hist(jet_pt, binning, alpha=0.5, label='true')\n",
    "plt.hist(jet_pt_smeared, binning, alpha=0.5, label='smeared')\n",
    "plt.legend()\n",
    "plt.xlabel('jet pt')\n",
    "plt.show()\n",
    "\n",
    "binning = np.linspace(-0.2, 0.2, 100)\n",
    "plt.hist( (jet_pt_smeared - jet_pt) / jet_pt, binning)\n",
    "plt.title('jet pt relative error')\n",
    "plt.show()"
   ]
  },
  {
   "cell_type": "markdown",
   "id": "8a0e6803-a1a4-4c5f-b6e1-8d57751b08f7",
   "metadata": {},
   "source": [
    "### Import \"synthetic simulation\", both generated and reconstructed level."
   ]
  },
  {
   "cell_type": "code",
   "execution_count": null,
   "id": "3cb960ab-40b9-4551-ba69-c37bed5c25cd",
   "metadata": {
    "tags": []
   },
   "outputs": [],
   "source": [
    "synthetic_file = \"preprocess_tr_eff.root\"\n",
    "synth_tree = ur.open(\"%s:preprocessed\"%(synthetic_file))\n",
    "synth_df = synth_tree.arrays(library=\"pd\")\n",
    "#synth_df = synth_df[synth_df[\"obs_hfs_pt\"] != 0]"
   ]
  },
  {
   "cell_type": "code",
   "execution_count": null,
   "id": "50564150-375a-45e9-8454-cf4d4c23b422",
   "metadata": {},
   "outputs": [],
   "source": [
    "synth_df.tail(10) #look at some entries"
   ]
  },
  {
   "cell_type": "markdown",
   "id": "e45d03b3-42c8-4140-87f5-6128d0beae7a",
   "metadata": {},
   "source": [
    "### define 4 main datasets"
   ]
  },
  {
   "cell_type": "code",
   "execution_count": null,
   "id": "61e2d71c-b0ba-49b0-b087-7575dba1fb53",
   "metadata": {},
   "outputs": [],
   "source": [
    "theta_unknown_S = natural_df[obs_features].to_numpy() #Reconstructed Data\n",
    "theta_unknown_G = natural_df[gen_features].to_numpy() #Nature, which unfolded data approaches\n",
    "\n",
    "theta0_S = synth_df[obs_features].to_numpy() #Simulated, synthetic reco-level\n",
    "theta0_G = synth_df[gen_features].to_numpy() #Generated, synthetic truth-level\n",
    "\n",
    "obs_thrown = synth_df['obs_thrown'].to_numpy() # binary if pair DOESN'T pass efficiency cut"
   ]
  },
  {
   "cell_type": "markdown",
   "id": "9d3f392e-b84d-47a3-bece-508bca2f4f5a",
   "metadata": {},
   "source": [
    "### Ensure the samples have the same number of entries"
   ]
  },
  {
   "cell_type": "code",
   "execution_count": null,
   "id": "6f180e2a-2411-4725-a7d7-df946242fb54",
   "metadata": {},
   "outputs": [],
   "source": [
    "N_Events = min(np.shape(theta0_S)[0],np.shape(theta_unknown_S)[0])-1\n",
    "\n",
    "# Synthetic\n",
    "theta0_S = theta0_S[:N_Events]\n",
    "theta0_G = theta0_G[:N_Events]\n",
    "\n",
    "theta0 = np.stack([theta0_S, theta0_G], axis=1)\n",
    "\n",
    "# Natural\n",
    "theta_unknown_S = theta_unknown_S[:N_Events]\n",
    "theta_unknown_G = theta_unknown_G[:N_Events]\n",
    "\n",
    "obs_thrown = obs_thrown[:N_Events]"
   ]
  },
  {
   "cell_type": "code",
   "execution_count": null,
   "id": "fb429ef3-f0fe-4fa7-b9c4-9f4e7564913a",
   "metadata": {},
   "outputs": [],
   "source": [
    "N = len(obs_features)\n",
    "\n",
    "binning = [np.logspace(-5,0,100),np.logspace(-4,0,100),np.linspace(20,40,100)]\n",
    "\n",
    "fig, axes = plt.subplots(1, 3, figsize=(15,4))\n",
    "\n",
    "obs_i = 0\n",
    "\n",
    "for i,ax in enumerate(axes.ravel()):\n",
    "    if (i >= N): break\n",
    "    _,_,_=ax.hist(theta0_G[:,i],binning[i],color='blue',alpha=0.5,label=\"MC, true\")\n",
    "    _,_,_=ax.hist(theta0_S[:,i][obs_thrown!=1],binning[i],histtype=\"step\",color='black',ls=':',label=\"MC, reco\")\n",
    "    _,_,_=ax.hist(theta_unknown_G[:,i],binning[i],color='orange',alpha=0.5,label=\"Data, true\")\n",
    "    _,_,_=ax.hist(theta_unknown_S[:,i][obs_thrown!=1],binning[i],histtype=\"step\",color='black',label=\"Data, reco\")\n",
    "\n",
    "    ax.set_title(labels[i])\n",
    "    ax.set_xlabel(labels[i])\n",
    "    ax.set_ylabel(\"Events\")\n",
    "    ax.legend(frameon=False)\n",
    "    \n",
    "    if obs_i in [0, 1]:\n",
    "        ax.set_xscale('log')\n",
    "        ax.set_yscale('log')\n",
    "        \n",
    "    obs_i += 1\n",
    "    \n",
    "fig.tight_layout()"
   ]
  },
  {
   "cell_type": "code",
   "execution_count": null,
   "id": "ce3a8d57-5640-487a-a722-3efe79f18540",
   "metadata": {},
   "outputs": [],
   "source": [
    "inputs = Input((len(obs_features), ))\n",
    "hidden_layer_1 = Dense(50, activation='relu')(inputs)\n",
    "hidden_layer_2 = Dense(50, activation='relu')(hidden_layer_1)\n",
    "hidden_layer_3 = Dense(50, activation='relu')(hidden_layer_2)\n",
    "outputs = Dense(1, activation='sigmoid')(hidden_layer_3)\n",
    "model_dis = Model(inputs=inputs, outputs=outputs)"
   ]
  },
  {
   "cell_type": "code",
   "execution_count": null,
   "id": "49c36d4b-1790-419e-a276-f66a59dd6504",
   "metadata": {},
   "outputs": [],
   "source": [
    "print(theta0_G.shape)\n",
    "print(theta0_S.shape)\n",
    "print(theta_unknown_S.shape)\n",
    "\n",
    "print(theta0_G[theta0_S[:,0]==-9999])\n",
    "print(theta0_G[theta0_S[:,0]==-9999].shape)"
   ]
  },
  {
   "cell_type": "code",
   "execution_count": null,
   "id": "2538e0db-feb5-45c8-97b4-1f974ab885d1",
   "metadata": {
    "scrolled": true,
    "tags": []
   },
   "outputs": [],
   "source": [
    "N_Iterations = 2\n",
    "myweights = of.omnifold_tr_eff(theta0,theta_unknown_S,N_Iterations,model_dis,dummyval=-9999)"
   ]
  },
  {
   "cell_type": "code",
   "execution_count": null,
   "id": "bfe66aad-d784-490f-aba7-bf38d7857163",
   "metadata": {
    "tags": []
   },
   "outputs": [],
   "source": [
    "binning = [np.logspace(-5,0,100),np.logspace(-4,0,100),np.linspace(20,40,100)]\n",
    "\n",
    "for iteration in range(N_Iterations):\n",
    "    fig, axes = plt.subplots(1, 3, figsize=(15,4))\n",
    "\n",
    "    obs_i = 0\n",
    "\n",
    "    for i,ax in enumerate(axes.ravel()):\n",
    "        if (i >= N): break\n",
    "        _,_,_=ax.hist(theta0_G[:,i],binning[i],color='blue',alpha=0.5,label=\"MC, true\")\n",
    "        _,_,_=ax.hist(theta_unknown_G[:,i],binning[i],color='orange',alpha=0.5,label=\"Data, true\")\n",
    "        _,_,_=ax.hist(theta0_G[:,i],weights=myweights[iteration, 0, :],bins=binning[i],color='black',histtype=\"step\",label=\"OmniFolded\",lw=\"2\")\n",
    "\n",
    "        ax.set_title(labels[i])\n",
    "        ax.set_xlabel(labels[i])\n",
    "        ax.set_ylabel(\"Events\")\n",
    "        ax.legend(frameon=False)\n",
    "\n",
    "        if obs_i in [0, 1]:\n",
    "            ax.set_xscale('log')\n",
    "            ax.set_yscale('log')\n",
    "\n",
    "        obs_i += 1\n",
    "    \n",
    "    fig.tight_layout()"
   ]
  },
  {
   "cell_type": "markdown",
   "id": "10bfb0ef-f8f7-4ec5-b230-694e755bc223",
   "metadata": {},
   "source": [
    "___\n",
    "___"
   ]
  },
  {
   "cell_type": "markdown",
   "id": "de3c2d5f-01c3-44f8-b4a6-390f52de2b59",
   "metadata": {},
   "source": [
    "### true vs smeared EEC calculation"
   ]
  },
  {
   "cell_type": "code",
   "execution_count": null,
   "id": "af7ec6b5-e2f1-4d71-8507-14f2ec5f913e",
   "metadata": {},
   "outputs": [],
   "source": [
    "binning = np.logspace(-4, np.log10(0.4), 100)\n",
    "\n",
    "_,_,_=plt.hist(theta0_G[:,1], binning, weights=theta0_G[:,0], color='blue', alpha=0.5, label=\"MC, true\") # true\n",
    "_,_,_=plt.hist(theta0_S[:,1], binning, weights=theta0_S[:,0], color='orange', alpha=0.5, label=\"data, smeared\") # smeared\n",
    "_,_,_=plt.hist(theta0_G[:,1] * myweights[-1, 0, :], binning, weights=theta0_G[:,0] * myweights[-1, 0, :], color='black', histtype=\"step\", label=\"OmniFolded\", lw=\"2\") # omnifolded\n",
    "\n",
    "plt.xscale('log')\n",
    "plt.yscale('log')\n",
    "\n",
    "plt.xlabel(\"$R_L$\")\n",
    "plt.ylabel(\"cs\")\n",
    "plt.title(\"EEC calculation\")\n",
    "plt.legend(frameon=False, loc='upper left')"
   ]
  },
  {
   "cell_type": "code",
   "execution_count": null,
   "id": "3ac448b5-2503-4eaf-908f-e4c81e3ece50",
   "metadata": {},
   "outputs": [],
   "source": [
    "myweights[-1]"
   ]
  },
  {
   "cell_type": "code",
   "execution_count": null,
   "id": "b1122fc9-bfd2-4e20-a681-fc6c7f53df24",
   "metadata": {},
   "outputs": [],
   "source": [
    "myweights"
   ]
  },
  {
   "cell_type": "code",
   "execution_count": null,
   "id": "b7f3a813-97e9-4b12-b2bc-c34299474d06",
   "metadata": {},
   "outputs": [],
   "source": [
    "pass_reco = np.random.binomial(1,0.9,30)"
   ]
  },
  {
   "cell_type": "code",
   "execution_count": null,
   "id": "65fe1c17-e4ce-4d7f-be4c-752b172540d7",
   "metadata": {},
   "outputs": [],
   "source": [
    "pass_reco"
   ]
  }
 ],
 "metadata": {
  "kernelspec": {
   "display_name": "Python (tf_gpu)",
   "language": "python",
   "name": "tf_gpu"
  },
  "language_info": {
   "codemirror_mode": {
    "name": "ipython",
    "version": 3
   },
   "file_extension": ".py",
   "mimetype": "text/x-python",
   "name": "python",
   "nbconvert_exporter": "python",
   "pygments_lexer": "ipython3",
   "version": "3.9.15"
  }
 },
 "nbformat": 4,
 "nbformat_minor": 5
}
